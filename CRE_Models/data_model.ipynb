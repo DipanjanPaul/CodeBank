{
 "cells": [
  {
   "cell_type": "code",
   "execution_count": 184,
   "metadata": {},
   "outputs": [],
   "source": [
    "import pandas as pd\n",
    "import numpy as np\n",
    "\n",
    "from pandas_profiling import ProfileReport\n",
    "import plotly.express as px\n",
    "import re\n",
    "\n",
    "from itertools import groupby\n",
    "from datetime import datetime\n",
    "import math\n",
    "\n",
    "#import re\n",
    "#from nltk.stem import WordNetLemmatizer, PorterStemmer, SnowballStemmer\n",
    "\n",
    "#from nltk.corpus import stopwords\n",
    "#from nltk.tokenize import word_tokenize\n",
    "\n",
    "import networkx as nx\n",
    "\n",
    "from networkx.readwrite import json_graph\n",
    "\n",
    "import seaborn as sns\n",
    "\n",
    "import matplotlib.pyplot as plt\n",
    "\n",
    "import zipfile\n",
    "\n",
    "pd.options.display.max_columns = 100\n",
    "pd.options.display.max_rows = 100\n",
    "pd.options.display.max_colwidth = 50"
   ]
  },
  {
   "cell_type": "code",
   "execution_count": 185,
   "metadata": {},
   "outputs": [],
   "source": [
    "df = pd.read_excel(\"../data/external/Spec SKU Material and Labor_v2-2.xlsx\", sheet_name='Spec Material DB 0.1',\n",
    "                  header=0)"
   ]
  },
  {
   "cell_type": "code",
   "execution_count": 186,
   "metadata": {},
   "outputs": [
    {
     "data": {
      "text/html": [
       "<div>\n",
       "<style scoped>\n",
       "    .dataframe tbody tr th:only-of-type {\n",
       "        vertical-align: middle;\n",
       "    }\n",
       "\n",
       "    .dataframe tbody tr th {\n",
       "        vertical-align: top;\n",
       "    }\n",
       "\n",
       "    .dataframe thead th {\n",
       "        text-align: right;\n",
       "    }\n",
       "</style>\n",
       "<table border=\"1\" class=\"dataframe\">\n",
       "  <thead>\n",
       "    <tr style=\"text-align: right;\">\n",
       "      <th></th>\n",
       "      <th>CC Code</th>\n",
       "      <th>Category</th>\n",
       "      <th>Sub-category</th>\n",
       "      <th>Item Type</th>\n",
       "      <th>LB/RFP Name</th>\n",
       "      <th>KitID</th>\n",
       "      <th>Specifications</th>\n",
       "      <th>Unnamed: 7</th>\n",
       "      <th>Unnamed: 8</th>\n",
       "      <th>Unnamed: 9</th>\n",
       "      <th>Grade</th>\n",
       "      <th>Unnamed: 11</th>\n",
       "      <th>Unnamed: 12</th>\n",
       "      <th>Dimensions</th>\n",
       "      <th>Unnamed: 14</th>\n",
       "      <th>Unnamed: 15</th>\n",
       "      <th>Color</th>\n",
       "      <th>Warranty</th>\n",
       "      <th>Image</th>\n",
       "      <th>Notes</th>\n",
       "      <th>Additional Tags</th>\n",
       "      <th>Unnamed: 21</th>\n",
       "    </tr>\n",
       "  </thead>\n",
       "  <tbody>\n",
       "    <tr>\n",
       "      <th>0</th>\n",
       "      <td>NaN</td>\n",
       "      <td>NaN</td>\n",
       "      <td>NaN</td>\n",
       "      <td>NaN</td>\n",
       "      <td>NaN</td>\n",
       "      <td>NaN</td>\n",
       "      <td>tag1</td>\n",
       "      <td>tag2</td>\n",
       "      <td>tag3</td>\n",
       "      <td>tag4</td>\n",
       "      <td>Premium</td>\n",
       "      <td>Standard</td>\n",
       "      <td>Economy</td>\n",
       "      <td>X</td>\n",
       "      <td>Y</td>\n",
       "      <td>Z</td>\n",
       "      <td>NaN</td>\n",
       "      <td>NaN</td>\n",
       "      <td>NaN</td>\n",
       "      <td>NaN</td>\n",
       "      <td>atag1</td>\n",
       "      <td>atag2</td>\n",
       "    </tr>\n",
       "    <tr>\n",
       "      <th>1</th>\n",
       "      <td>3-05-5410</td>\n",
       "      <td>Kitchen</td>\n",
       "      <td>Cabinets</td>\n",
       "      <td>New Box Sets</td>\n",
       "      <td>New Box Sets - shaker - all wood - painted</td>\n",
       "      <td>NaN</td>\n",
       "      <td>shaker</td>\n",
       "      <td>all wood</td>\n",
       "      <td>painted</td>\n",
       "      <td>NaN</td>\n",
       "      <td>NaN</td>\n",
       "      <td>NaN</td>\n",
       "      <td>NaN</td>\n",
       "      <td>NaN</td>\n",
       "      <td>NaN</td>\n",
       "      <td>NaN</td>\n",
       "      <td>NaN</td>\n",
       "      <td>NaN</td>\n",
       "      <td>NaN</td>\n",
       "      <td>NaN</td>\n",
       "      <td>NaN</td>\n",
       "      <td>NaN</td>\n",
       "    </tr>\n",
       "  </tbody>\n",
       "</table>\n",
       "</div>"
      ],
      "text/plain": [
       "     CC Code Category Sub-category     Item Type  \\\n",
       "0        NaN      NaN          NaN           NaN   \n",
       "1  3-05-5410  Kitchen     Cabinets  New Box Sets   \n",
       "\n",
       "                                LB/RFP Name    KitID Specifications  \\\n",
       "0                                         NaN    NaN           tag1   \n",
       "1  New Box Sets - shaker - all wood - painted    NaN         shaker   \n",
       "\n",
       "  Unnamed: 7 Unnamed: 8 Unnamed: 9    Grade Unnamed: 11 Unnamed: 12  \\\n",
       "0       tag2       tag3       tag4  Premium    Standard     Economy   \n",
       "1   all wood    painted        NaN      NaN         NaN         NaN   \n",
       "\n",
       "  Dimensions Unnamed: 14 Unnamed: 15  Color  Warranty  Image  Notes  \\\n",
       "0          X           Y           Z    NaN       NaN    NaN    NaN   \n",
       "1        NaN         NaN         NaN    NaN       NaN    NaN    NaN   \n",
       "\n",
       "  Additional Tags Unnamed: 21  \n",
       "0           atag1       atag2  \n",
       "1             NaN         NaN  "
      ]
     },
     "execution_count": 186,
     "metadata": {},
     "output_type": "execute_result"
    }
   ],
   "source": [
    "df.head(2)"
   ]
  },
  {
   "cell_type": "code",
   "execution_count": 187,
   "metadata": {},
   "outputs": [
    {
     "data": {
      "text/plain": [
       "Index(['CC Code', 'Category', 'Sub-category', 'Item Type', 'LB/RFP Name  ',\n",
       "       'KitID', 'Specifications', 'Unnamed: 7', 'Unnamed: 8', 'Unnamed: 9',\n",
       "       'Grade', 'Unnamed: 11', 'Unnamed: 12', 'Dimensions', 'Unnamed: 14',\n",
       "       'Unnamed: 15', 'Color', 'Warranty', 'Image', 'Notes', 'Additional Tags',\n",
       "       'Unnamed: 21'],\n",
       "      dtype='object')"
      ]
     },
     "execution_count": 187,
     "metadata": {},
     "output_type": "execute_result"
    }
   ],
   "source": [
    "df.columns"
   ]
  },
  {
   "cell_type": "code",
   "execution_count": 188,
   "metadata": {},
   "outputs": [
    {
     "data": {
      "text/plain": [
       "CC Code                    \n",
       "Category                   \n",
       "Sub-category               \n",
       "Item Type                  \n",
       "LB/RFP Name                \n",
       "KitID                      \n",
       "Specifications         tag1\n",
       "Unnamed: 7             tag2\n",
       "Unnamed: 8             tag3\n",
       "Unnamed: 9             tag4\n",
       "Grade               Premium\n",
       "Unnamed: 11        Standard\n",
       "Unnamed: 12         Economy\n",
       "Dimensions                X\n",
       "Unnamed: 14               Y\n",
       "Unnamed: 15               Z\n",
       "Color                      \n",
       "Warranty                   \n",
       "Image                      \n",
       "Notes                      \n",
       "Additional Tags       atag1\n",
       "Unnamed: 21           atag2\n",
       "Name: 0, dtype: object"
      ]
     },
     "execution_count": 188,
     "metadata": {},
     "output_type": "execute_result"
    }
   ],
   "source": [
    "df.iloc[0,:].fillna(\"\")"
   ]
  },
  {
   "cell_type": "code",
   "execution_count": 189,
   "metadata": {},
   "outputs": [
    {
     "data": {
      "text/plain": [
       "['CC_Code_',\n",
       " 'Category_',\n",
       " 'Sub_category_',\n",
       " 'Item_Type_',\n",
       " 'LB/RFP_Name_',\n",
       " 'KitID_',\n",
       " 'Specifications_tag1',\n",
       " 'Specifications_tag2',\n",
       " 'Specifications_tag3',\n",
       " 'Specifications_tag4',\n",
       " 'Grade_Premium',\n",
       " 'Grade_Standard',\n",
       " 'Grade_Economy',\n",
       " 'Dimensions_X',\n",
       " 'Dimensions_Y',\n",
       " 'Dimensions_Z',\n",
       " 'Color_',\n",
       " 'Warranty_',\n",
       " 'Image_',\n",
       " 'Notes_',\n",
       " 'Additional_Tags_atag1',\n",
       " 'Additional_Tags_atag2']"
      ]
     },
     "execution_count": 189,
     "metadata": {},
     "output_type": "execute_result"
    }
   ],
   "source": [
    "new_cols = []\n",
    "\n",
    "prev = df.columns[0]\n",
    "\n",
    "for i, itm in enumerate(df.columns):\n",
    "    if (itm != prev):\n",
    "        if itm.startswith('Unnamed'):\n",
    "            new_cols.append(prev)\n",
    "        else:\n",
    "            prev = itm\n",
    "            new_cols.append(itm)\n",
    "    else:\n",
    "        new_cols.append(itm)\n",
    "            \n",
    "new_cols = [i.strip() + \"_\" + j.strip() for i,j in zip(new_cols, df.iloc[0,:].fillna(\"\"))]\n",
    "new_cols = [x.strip() for x in new_cols]\n",
    "new_cols = [x.replace(\" \", \"_\") for x in new_cols]\n",
    "new_cols = [x.replace(\"-\", \"_\") for x in new_cols]\n",
    "new_cols"
   ]
  },
  {
   "cell_type": "code",
   "execution_count": 190,
   "metadata": {},
   "outputs": [
    {
     "data": {
      "text/html": [
       "<div>\n",
       "<style scoped>\n",
       "    .dataframe tbody tr th:only-of-type {\n",
       "        vertical-align: middle;\n",
       "    }\n",
       "\n",
       "    .dataframe tbody tr th {\n",
       "        vertical-align: top;\n",
       "    }\n",
       "\n",
       "    .dataframe thead th {\n",
       "        text-align: right;\n",
       "    }\n",
       "</style>\n",
       "<table border=\"1\" class=\"dataframe\">\n",
       "  <thead>\n",
       "    <tr style=\"text-align: right;\">\n",
       "      <th></th>\n",
       "      <th>CC_Code_</th>\n",
       "      <th>Category_</th>\n",
       "      <th>Sub_category_</th>\n",
       "      <th>Item_Type_</th>\n",
       "      <th>LB/RFP_Name_</th>\n",
       "      <th>KitID_</th>\n",
       "      <th>Specifications_tag1</th>\n",
       "      <th>Specifications_tag2</th>\n",
       "      <th>Specifications_tag3</th>\n",
       "      <th>Specifications_tag4</th>\n",
       "      <th>Grade_Premium</th>\n",
       "      <th>Grade_Standard</th>\n",
       "      <th>Grade_Economy</th>\n",
       "      <th>Dimensions_X</th>\n",
       "      <th>Dimensions_Y</th>\n",
       "      <th>Dimensions_Z</th>\n",
       "      <th>Color_</th>\n",
       "      <th>Warranty_</th>\n",
       "      <th>Image_</th>\n",
       "      <th>Notes_</th>\n",
       "      <th>Additional_Tags_atag1</th>\n",
       "      <th>Additional_Tags_atag2</th>\n",
       "    </tr>\n",
       "  </thead>\n",
       "  <tbody>\n",
       "    <tr>\n",
       "      <th>1</th>\n",
       "      <td>3-05-5410</td>\n",
       "      <td>Kitchen</td>\n",
       "      <td>Cabinets</td>\n",
       "      <td>New Box Sets</td>\n",
       "      <td>New Box Sets - shaker - all wood - painted</td>\n",
       "      <td>NaN</td>\n",
       "      <td>shaker</td>\n",
       "      <td>all wood</td>\n",
       "      <td>painted</td>\n",
       "      <td>NaN</td>\n",
       "      <td>NaN</td>\n",
       "      <td>NaN</td>\n",
       "      <td>NaN</td>\n",
       "      <td>NaN</td>\n",
       "      <td>NaN</td>\n",
       "      <td>NaN</td>\n",
       "      <td>NaN</td>\n",
       "      <td>NaN</td>\n",
       "      <td>NaN</td>\n",
       "      <td>NaN</td>\n",
       "      <td>NaN</td>\n",
       "      <td>NaN</td>\n",
       "    </tr>\n",
       "    <tr>\n",
       "      <th>2</th>\n",
       "      <td>3-05-5410</td>\n",
       "      <td>Kitchen</td>\n",
       "      <td>Cabinets</td>\n",
       "      <td>New Box Sets</td>\n",
       "      <td>New Box Sets - shaker - all wood - thermofoil</td>\n",
       "      <td>NaN</td>\n",
       "      <td>flat</td>\n",
       "      <td>MDF</td>\n",
       "      <td>thermofoil</td>\n",
       "      <td>NaN</td>\n",
       "      <td>NaN</td>\n",
       "      <td>NaN</td>\n",
       "      <td>NaN</td>\n",
       "      <td>NaN</td>\n",
       "      <td>NaN</td>\n",
       "      <td>NaN</td>\n",
       "      <td>NaN</td>\n",
       "      <td>NaN</td>\n",
       "      <td>NaN</td>\n",
       "      <td>NaN</td>\n",
       "      <td>NaN</td>\n",
       "      <td>NaN</td>\n",
       "    </tr>\n",
       "    <tr>\n",
       "      <th>3</th>\n",
       "      <td>3-05-5410</td>\n",
       "      <td>Kitchen</td>\n",
       "      <td>Cabinets</td>\n",
       "      <td>New Box Sets</td>\n",
       "      <td>New Box Sets - shaker - all wood - melamine</td>\n",
       "      <td>NaN</td>\n",
       "      <td>NaN</td>\n",
       "      <td>NaN</td>\n",
       "      <td>melamine</td>\n",
       "      <td>NaN</td>\n",
       "      <td>NaN</td>\n",
       "      <td>NaN</td>\n",
       "      <td>NaN</td>\n",
       "      <td>NaN</td>\n",
       "      <td>NaN</td>\n",
       "      <td>NaN</td>\n",
       "      <td>NaN</td>\n",
       "      <td>NaN</td>\n",
       "      <td>NaN</td>\n",
       "      <td>NaN</td>\n",
       "      <td>NaN</td>\n",
       "      <td>NaN</td>\n",
       "    </tr>\n",
       "    <tr>\n",
       "      <th>4</th>\n",
       "      <td>3-05-5410</td>\n",
       "      <td>Kitchen</td>\n",
       "      <td>Cabinets</td>\n",
       "      <td>New Box Sets</td>\n",
       "      <td>New Box Sets - shaker - MDF - painted</td>\n",
       "      <td>NaN</td>\n",
       "      <td>NaN</td>\n",
       "      <td>NaN</td>\n",
       "      <td>NaN</td>\n",
       "      <td>NaN</td>\n",
       "      <td>NaN</td>\n",
       "      <td>NaN</td>\n",
       "      <td>NaN</td>\n",
       "      <td>NaN</td>\n",
       "      <td>NaN</td>\n",
       "      <td>NaN</td>\n",
       "      <td>NaN</td>\n",
       "      <td>NaN</td>\n",
       "      <td>NaN</td>\n",
       "      <td>NaN</td>\n",
       "      <td>NaN</td>\n",
       "      <td>NaN</td>\n",
       "    </tr>\n",
       "    <tr>\n",
       "      <th>5</th>\n",
       "      <td>3-05-5410</td>\n",
       "      <td>Kitchen</td>\n",
       "      <td>Cabinets</td>\n",
       "      <td>New Box Sets</td>\n",
       "      <td>New Box Sets - shaker - MDF - thermofoil</td>\n",
       "      <td>NaN</td>\n",
       "      <td>NaN</td>\n",
       "      <td>NaN</td>\n",
       "      <td>NaN</td>\n",
       "      <td>NaN</td>\n",
       "      <td>NaN</td>\n",
       "      <td>NaN</td>\n",
       "      <td>NaN</td>\n",
       "      <td>NaN</td>\n",
       "      <td>NaN</td>\n",
       "      <td>NaN</td>\n",
       "      <td>NaN</td>\n",
       "      <td>NaN</td>\n",
       "      <td>NaN</td>\n",
       "      <td>NaN</td>\n",
       "      <td>NaN</td>\n",
       "      <td>NaN</td>\n",
       "    </tr>\n",
       "  </tbody>\n",
       "</table>\n",
       "</div>"
      ],
      "text/plain": [
       "    CC_Code_ Category_ Sub_category_    Item_Type_  \\\n",
       "1  3-05-5410   Kitchen      Cabinets  New Box Sets   \n",
       "2  3-05-5410   Kitchen      Cabinets  New Box Sets   \n",
       "3  3-05-5410   Kitchen      Cabinets  New Box Sets   \n",
       "4  3-05-5410   Kitchen      Cabinets  New Box Sets   \n",
       "5  3-05-5410   Kitchen      Cabinets  New Box Sets   \n",
       "\n",
       "                                    LB/RFP_Name_  KitID_ Specifications_tag1  \\\n",
       "1     New Box Sets - shaker - all wood - painted     NaN              shaker   \n",
       "2  New Box Sets - shaker - all wood - thermofoil     NaN               flat    \n",
       "3    New Box Sets - shaker - all wood - melamine     NaN                 NaN   \n",
       "4          New Box Sets - shaker - MDF - painted     NaN                 NaN   \n",
       "5       New Box Sets - shaker - MDF - thermofoil     NaN                 NaN   \n",
       "\n",
       "  Specifications_tag2 Specifications_tag3 Specifications_tag4 Grade_Premium  \\\n",
       "1            all wood             painted                 NaN           NaN   \n",
       "2                 MDF          thermofoil                 NaN           NaN   \n",
       "3                 NaN            melamine                 NaN           NaN   \n",
       "4                 NaN                 NaN                 NaN           NaN   \n",
       "5                 NaN                 NaN                 NaN           NaN   \n",
       "\n",
       "  Grade_Standard Grade_Economy Dimensions_X Dimensions_Y Dimensions_Z  Color_  \\\n",
       "1            NaN           NaN          NaN          NaN          NaN     NaN   \n",
       "2            NaN           NaN          NaN          NaN          NaN     NaN   \n",
       "3            NaN           NaN          NaN          NaN          NaN     NaN   \n",
       "4            NaN           NaN          NaN          NaN          NaN     NaN   \n",
       "5            NaN           NaN          NaN          NaN          NaN     NaN   \n",
       "\n",
       "   Warranty_  Image_  Notes_ Additional_Tags_atag1 Additional_Tags_atag2  \n",
       "1        NaN     NaN     NaN                   NaN                   NaN  \n",
       "2        NaN     NaN     NaN                   NaN                   NaN  \n",
       "3        NaN     NaN     NaN                   NaN                   NaN  \n",
       "4        NaN     NaN     NaN                   NaN                   NaN  \n",
       "5        NaN     NaN     NaN                   NaN                   NaN  "
      ]
     },
     "execution_count": 190,
     "metadata": {},
     "output_type": "execute_result"
    }
   ],
   "source": [
    "df.columns = new_cols\n",
    "df = df.iloc[1:,:]\n",
    "df.head()"
   ]
  },
  {
   "cell_type": "code",
   "execution_count": 191,
   "metadata": {},
   "outputs": [
    {
     "data": {
      "text/html": [
       "<div>\n",
       "<style scoped>\n",
       "    .dataframe tbody tr th:only-of-type {\n",
       "        vertical-align: middle;\n",
       "    }\n",
       "\n",
       "    .dataframe tbody tr th {\n",
       "        vertical-align: top;\n",
       "    }\n",
       "\n",
       "    .dataframe thead th {\n",
       "        text-align: right;\n",
       "    }\n",
       "</style>\n",
       "<table border=\"1\" class=\"dataframe\">\n",
       "  <thead>\n",
       "    <tr style=\"text-align: right;\">\n",
       "      <th></th>\n",
       "      <th>Category_</th>\n",
       "      <th>Sub_category_</th>\n",
       "      <th>Item_Type_</th>\n",
       "      <th>Specifications_tag1</th>\n",
       "      <th>Specifications_tag2</th>\n",
       "      <th>Specifications_tag3</th>\n",
       "      <th>Specifications_tag4</th>\n",
       "      <th>Grade_Premium</th>\n",
       "      <th>Grade_Standard</th>\n",
       "      <th>Grade_Economy</th>\n",
       "      <th>Dimensions_X</th>\n",
       "      <th>Dimensions_Y</th>\n",
       "      <th>Dimensions_Z</th>\n",
       "      <th>Color_</th>\n",
       "      <th>Warranty_</th>\n",
       "      <th>Image_</th>\n",
       "      <th>Notes_</th>\n",
       "      <th>Additional_Tags_atag1</th>\n",
       "      <th>Additional_Tags_atag2</th>\n",
       "    </tr>\n",
       "  </thead>\n",
       "  <tbody>\n",
       "    <tr>\n",
       "      <th>1</th>\n",
       "      <td>Kitchen</td>\n",
       "      <td>Cabinets</td>\n",
       "      <td>New Box Sets</td>\n",
       "      <td>shaker</td>\n",
       "      <td>all wood</td>\n",
       "      <td>painted</td>\n",
       "      <td>NaN</td>\n",
       "      <td>NaN</td>\n",
       "      <td>NaN</td>\n",
       "      <td>NaN</td>\n",
       "      <td>NaN</td>\n",
       "      <td>NaN</td>\n",
       "      <td>NaN</td>\n",
       "      <td>NaN</td>\n",
       "      <td>NaN</td>\n",
       "      <td>NaN</td>\n",
       "      <td>NaN</td>\n",
       "      <td>NaN</td>\n",
       "      <td>NaN</td>\n",
       "    </tr>\n",
       "    <tr>\n",
       "      <th>2</th>\n",
       "      <td>Kitchen</td>\n",
       "      <td>Cabinets</td>\n",
       "      <td>New Box Sets</td>\n",
       "      <td>flat</td>\n",
       "      <td>MDF</td>\n",
       "      <td>thermofoil</td>\n",
       "      <td>NaN</td>\n",
       "      <td>NaN</td>\n",
       "      <td>NaN</td>\n",
       "      <td>NaN</td>\n",
       "      <td>NaN</td>\n",
       "      <td>NaN</td>\n",
       "      <td>NaN</td>\n",
       "      <td>NaN</td>\n",
       "      <td>NaN</td>\n",
       "      <td>NaN</td>\n",
       "      <td>NaN</td>\n",
       "      <td>NaN</td>\n",
       "      <td>NaN</td>\n",
       "    </tr>\n",
       "    <tr>\n",
       "      <th>3</th>\n",
       "      <td>Kitchen</td>\n",
       "      <td>Cabinets</td>\n",
       "      <td>New Box Sets</td>\n",
       "      <td>NaN</td>\n",
       "      <td>NaN</td>\n",
       "      <td>melamine</td>\n",
       "      <td>NaN</td>\n",
       "      <td>NaN</td>\n",
       "      <td>NaN</td>\n",
       "      <td>NaN</td>\n",
       "      <td>NaN</td>\n",
       "      <td>NaN</td>\n",
       "      <td>NaN</td>\n",
       "      <td>NaN</td>\n",
       "      <td>NaN</td>\n",
       "      <td>NaN</td>\n",
       "      <td>NaN</td>\n",
       "      <td>NaN</td>\n",
       "      <td>NaN</td>\n",
       "    </tr>\n",
       "  </tbody>\n",
       "</table>\n",
       "</div>"
      ],
      "text/plain": [
       "  Category_ Sub_category_    Item_Type_ Specifications_tag1  \\\n",
       "1   Kitchen      Cabinets  New Box Sets              shaker   \n",
       "2   Kitchen      Cabinets  New Box Sets               flat    \n",
       "3   Kitchen      Cabinets  New Box Sets                 NaN   \n",
       "\n",
       "  Specifications_tag2 Specifications_tag3 Specifications_tag4 Grade_Premium  \\\n",
       "1            all wood             painted                 NaN           NaN   \n",
       "2                 MDF          thermofoil                 NaN           NaN   \n",
       "3                 NaN            melamine                 NaN           NaN   \n",
       "\n",
       "  Grade_Standard Grade_Economy Dimensions_X Dimensions_Y Dimensions_Z  Color_  \\\n",
       "1            NaN           NaN          NaN          NaN          NaN     NaN   \n",
       "2            NaN           NaN          NaN          NaN          NaN     NaN   \n",
       "3            NaN           NaN          NaN          NaN          NaN     NaN   \n",
       "\n",
       "   Warranty_  Image_  Notes_ Additional_Tags_atag1 Additional_Tags_atag2  \n",
       "1        NaN     NaN     NaN                   NaN                   NaN  \n",
       "2        NaN     NaN     NaN                   NaN                   NaN  \n",
       "3        NaN     NaN     NaN                   NaN                   NaN  "
      ]
     },
     "execution_count": 191,
     "metadata": {},
     "output_type": "execute_result"
    }
   ],
   "source": [
    "df.drop(['CC_Code_', 'LB/RFP_Name_', 'KitID_'], axis=1, inplace=True)\n",
    "df.drop_duplicates(inplace=True)\n",
    "df.head(3)"
   ]
  },
  {
   "cell_type": "code",
   "execution_count": 192,
   "metadata": {},
   "outputs": [
    {
     "data": {
      "text/plain": [
       "(63, 19)"
      ]
     },
     "execution_count": 192,
     "metadata": {},
     "output_type": "execute_result"
    }
   ],
   "source": [
    "df.shape"
   ]
  },
  {
   "cell_type": "code",
   "execution_count": 193,
   "metadata": {},
   "outputs": [
    {
     "data": {
      "text/plain": [
       "(51, 19)"
      ]
     },
     "execution_count": 193,
     "metadata": {},
     "output_type": "execute_result"
    }
   ],
   "source": [
    "ix = df.iloc[:,3:].isnull().apply(lambda x: np.sum(x) != len(x), axis=1)\n",
    "df = df.loc[ix==True,:]\n",
    "df.shape"
   ]
  },
  {
   "cell_type": "code",
   "execution_count": 194,
   "metadata": {},
   "outputs": [
    {
     "data": {
      "text/html": [
       "<div>\n",
       "<style scoped>\n",
       "    .dataframe tbody tr th:only-of-type {\n",
       "        vertical-align: middle;\n",
       "    }\n",
       "\n",
       "    .dataframe tbody tr th {\n",
       "        vertical-align: top;\n",
       "    }\n",
       "\n",
       "    .dataframe thead th {\n",
       "        text-align: right;\n",
       "    }\n",
       "</style>\n",
       "<table border=\"1\" class=\"dataframe\">\n",
       "  <thead>\n",
       "    <tr style=\"text-align: right;\">\n",
       "      <th></th>\n",
       "      <th>Category_</th>\n",
       "      <th>Sub_category_</th>\n",
       "      <th>Item_Type_</th>\n",
       "      <th>Specifications_tag1</th>\n",
       "      <th>Specifications_tag2</th>\n",
       "      <th>Specifications_tag3</th>\n",
       "      <th>Specifications_tag4</th>\n",
       "      <th>Grade_Premium</th>\n",
       "      <th>Grade_Standard</th>\n",
       "      <th>Grade_Economy</th>\n",
       "      <th>Dimensions_X</th>\n",
       "      <th>Dimensions_Y</th>\n",
       "      <th>Dimensions_Z</th>\n",
       "      <th>Color_</th>\n",
       "      <th>Warranty_</th>\n",
       "      <th>Image_</th>\n",
       "      <th>Notes_</th>\n",
       "      <th>Additional_Tags_atag1</th>\n",
       "      <th>Additional_Tags_atag2</th>\n",
       "    </tr>\n",
       "  </thead>\n",
       "  <tbody>\n",
       "    <tr>\n",
       "      <th>1</th>\n",
       "      <td>Kitchen</td>\n",
       "      <td>Cabinets</td>\n",
       "      <td>New Box Sets</td>\n",
       "      <td>shaker</td>\n",
       "      <td>all wood</td>\n",
       "      <td>painted</td>\n",
       "      <td>N/A</td>\n",
       "      <td>N/A</td>\n",
       "      <td>N/A</td>\n",
       "      <td>N/A</td>\n",
       "      <td>N/A</td>\n",
       "      <td>N/A</td>\n",
       "      <td>N/A</td>\n",
       "      <td>N/A</td>\n",
       "      <td>N/A</td>\n",
       "      <td>N/A</td>\n",
       "      <td>N/A</td>\n",
       "      <td>N/A</td>\n",
       "      <td>N/A</td>\n",
       "    </tr>\n",
       "    <tr>\n",
       "      <th>2</th>\n",
       "      <td>Kitchen</td>\n",
       "      <td>Cabinets</td>\n",
       "      <td>New Box Sets</td>\n",
       "      <td>flat</td>\n",
       "      <td>MDF</td>\n",
       "      <td>thermofoil</td>\n",
       "      <td>N/A</td>\n",
       "      <td>N/A</td>\n",
       "      <td>N/A</td>\n",
       "      <td>N/A</td>\n",
       "      <td>N/A</td>\n",
       "      <td>N/A</td>\n",
       "      <td>N/A</td>\n",
       "      <td>N/A</td>\n",
       "      <td>N/A</td>\n",
       "      <td>N/A</td>\n",
       "      <td>N/A</td>\n",
       "      <td>N/A</td>\n",
       "      <td>N/A</td>\n",
       "    </tr>\n",
       "    <tr>\n",
       "      <th>3</th>\n",
       "      <td>Kitchen</td>\n",
       "      <td>Cabinets</td>\n",
       "      <td>New Box Sets</td>\n",
       "      <td>N/A</td>\n",
       "      <td>N/A</td>\n",
       "      <td>melamine</td>\n",
       "      <td>N/A</td>\n",
       "      <td>N/A</td>\n",
       "      <td>N/A</td>\n",
       "      <td>N/A</td>\n",
       "      <td>N/A</td>\n",
       "      <td>N/A</td>\n",
       "      <td>N/A</td>\n",
       "      <td>N/A</td>\n",
       "      <td>N/A</td>\n",
       "      <td>N/A</td>\n",
       "      <td>N/A</td>\n",
       "      <td>N/A</td>\n",
       "      <td>N/A</td>\n",
       "    </tr>\n",
       "    <tr>\n",
       "      <th>25</th>\n",
       "      <td>Kitchen</td>\n",
       "      <td>Cabinets</td>\n",
       "      <td>Paint</td>\n",
       "      <td>N/A</td>\n",
       "      <td>N/A</td>\n",
       "      <td>N/A</td>\n",
       "      <td>Boxes</td>\n",
       "      <td>N/A</td>\n",
       "      <td>N/A</td>\n",
       "      <td>N/A</td>\n",
       "      <td>N/A</td>\n",
       "      <td>N/A</td>\n",
       "      <td>N/A</td>\n",
       "      <td>N/A</td>\n",
       "      <td>N/A</td>\n",
       "      <td>N/A</td>\n",
       "      <td>N/A</td>\n",
       "      <td>N/A</td>\n",
       "      <td>N/A</td>\n",
       "    </tr>\n",
       "    <tr>\n",
       "      <th>26</th>\n",
       "      <td>Kitchen</td>\n",
       "      <td>Cabinets</td>\n",
       "      <td>Paint</td>\n",
       "      <td>N/A</td>\n",
       "      <td>N/A</td>\n",
       "      <td>N/A</td>\n",
       "      <td>Doors &amp; Boxes</td>\n",
       "      <td>N/A</td>\n",
       "      <td>N/A</td>\n",
       "      <td>N/A</td>\n",
       "      <td>N/A</td>\n",
       "      <td>N/A</td>\n",
       "      <td>N/A</td>\n",
       "      <td>N/A</td>\n",
       "      <td>N/A</td>\n",
       "      <td>N/A</td>\n",
       "      <td>N/A</td>\n",
       "      <td>N/A</td>\n",
       "      <td>N/A</td>\n",
       "    </tr>\n",
       "  </tbody>\n",
       "</table>\n",
       "</div>"
      ],
      "text/plain": [
       "   Category_ Sub_category_    Item_Type_ Specifications_tag1  \\\n",
       "1    Kitchen      Cabinets  New Box Sets              shaker   \n",
       "2    Kitchen      Cabinets  New Box Sets               flat    \n",
       "3    Kitchen      Cabinets  New Box Sets                 N/A   \n",
       "25   Kitchen      Cabinets         Paint                 N/A   \n",
       "26   Kitchen      Cabinets         Paint                 N/A   \n",
       "\n",
       "   Specifications_tag2 Specifications_tag3 Specifications_tag4 Grade_Premium  \\\n",
       "1             all wood             painted                 N/A           N/A   \n",
       "2                  MDF          thermofoil                 N/A           N/A   \n",
       "3                  N/A            melamine                 N/A           N/A   \n",
       "25                 N/A                 N/A               Boxes           N/A   \n",
       "26                 N/A                 N/A       Doors & Boxes           N/A   \n",
       "\n",
       "   Grade_Standard Grade_Economy Dimensions_X Dimensions_Y Dimensions_Z Color_  \\\n",
       "1             N/A           N/A          N/A          N/A          N/A    N/A   \n",
       "2             N/A           N/A          N/A          N/A          N/A    N/A   \n",
       "3             N/A           N/A          N/A          N/A          N/A    N/A   \n",
       "25            N/A           N/A          N/A          N/A          N/A    N/A   \n",
       "26            N/A           N/A          N/A          N/A          N/A    N/A   \n",
       "\n",
       "   Warranty_ Image_ Notes_ Additional_Tags_atag1 Additional_Tags_atag2  \n",
       "1        N/A    N/A    N/A                   N/A                   N/A  \n",
       "2        N/A    N/A    N/A                   N/A                   N/A  \n",
       "3        N/A    N/A    N/A                   N/A                   N/A  \n",
       "25       N/A    N/A    N/A                   N/A                   N/A  \n",
       "26       N/A    N/A    N/A                   N/A                   N/A  "
      ]
     },
     "execution_count": 194,
     "metadata": {},
     "output_type": "execute_result"
    }
   ],
   "source": [
    "df.fillna(\"N/A\", inplace=True)\n",
    "df.loc[df.Item_Type_ == 'N/A', 'Item_Type_'] = df.loc[df.Item_Type_ == 'N/A', 'Sub_category_']\n",
    "df.head()"
   ]
  },
  {
   "cell_type": "code",
   "execution_count": 165,
   "metadata": {},
   "outputs": [
    {
     "data": {
      "image/png": "[encoded data removed]",
      "text/plain": [
       "<Figure size 432x288 with 1 Axes>"
      ]
     },
     "metadata": {},
     "output_type": "display_data"
    }
   ],
   "source": [
    "G = nx.Graph()\n",
    "\n",
    "G.add_nodes_from(np.unique(df.Category_))\n",
    "\n",
    "ix=1\n",
    "\n",
    "d = df.iloc[:,ix-1:ix+1].drop_duplicates().dropna()\n",
    "\n",
    "d_tuple = [(row[0], row[1]) for i, row in d.iterrows()]\n",
    "G.add_edges_from(d_tuple)\n",
    "\n",
    "d_tuple = {(row[0], row[1]):{'name': 'test'} for i, row in d.iterrows()}\n",
    "nx.set_edge_attributes(G, d_tuple)\n",
    "\n",
    "nx.draw(G, with_labels=True, font_weight='bold')      \n",
    "##{(0, 1): {\"attr1\": 20, \"attr2\": \"nothing\"}, (1, 2): {\"attr2\": 3}}\n",
    "\n"
   ]
  },
  {
   "cell_type": "code",
   "execution_count": 225,
   "metadata": {},
   "outputs": [
    {
     "data": {
      "image/png": "[encoded data removed]",
      "text/plain": [
       "<Figure size 432x288 with 1 Axes>"
      ]
     },
     "metadata": {},
     "output_type": "display_data"
    }
   ],
   "source": [
    "G = nx.DiGraph()\n",
    "\n",
    "for ix, itm in enumerate(df.columns):\n",
    "    if ix == 0:\n",
    "        G.add_nodes_from(np.unique(df[itm]))\n",
    "    elif ix <= 2:\n",
    "        d = df.iloc[:,ix-1:ix+1].drop_duplicates().dropna()\n",
    "        d_tuple = [(row[0], row[1]) for i, row in d.iterrows()]\n",
    "        G.add_edges_from(d_tuple)\n",
    "    else:\n",
    "        d = df.iloc[:,[0,1,2,ix]].drop_duplicates().dropna()\n",
    "        d = d[d[itm] != 'N/A']\n",
    "        d = d.iloc[:,2:4]\n",
    "        d_tuple = [(row[0], row[1]) for i, row in d.iterrows()]\n",
    "        G.add_edges_from(d_tuple)\n",
    "        \n",
    "            \n",
    "nx.draw(G, with_labels=True, font_weight='bold')       "
   ]
  },
  {
   "cell_type": "code",
   "execution_count": 220,
   "metadata": {},
   "outputs": [
    {
     "data": {
      "text/plain": [
       "['Bathroom', 'Kitchen', 'Lighting']"
      ]
     },
     "execution_count": 220,
     "metadata": {},
     "output_type": "execute_result"
    }
   ],
   "source": [
    "[n for n,d in G.in_degree() if d==0] "
   ]
  },
  {
   "cell_type": "code",
   "execution_count": 208,
   "metadata": {},
   "outputs": [
    {
     "data": {
      "text/plain": [
       "AtlasView({'Cabinets': {}, 'Countertops': {}, 'Sink': {}, 'Tile': {}, 'Appliances': {}})"
      ]
     },
     "execution_count": 208,
     "metadata": {},
     "output_type": "execute_result"
    }
   ],
   "source": [
    "G['Kitchen']"
   ]
  },
  {
   "cell_type": "code",
   "execution_count": 214,
   "metadata": {},
   "outputs": [
    {
     "data": {
      "text/plain": [
       "AtlasView({'New Box Sets': {}, 'Paint': {}, 'Hardware': {}})"
      ]
     },
     "execution_count": 214,
     "metadata": {},
     "output_type": "execute_result"
    }
   ],
   "source": [
    "G['Cabinets']"
   ]
  },
  {
   "cell_type": "code",
   "execution_count": 215,
   "metadata": {},
   "outputs": [
    {
     "data": {
      "text/plain": [
       "AtlasView({'shaker': {}, 'flat ': {}, 'all wood': {}, 'MDF': {}, 'painted': {}, 'thermofoil': {}, 'melamine': {}})"
      ]
     },
     "execution_count": 215,
     "metadata": {},
     "output_type": "execute_result"
    }
   ],
   "source": [
    "G['New Box Sets']"
   ]
  },
  {
   "cell_type": "code",
   "execution_count": 213,
   "metadata": {},
   "outputs": [
    {
     "data": {
      "text/plain": [
       "AtlasView({'Countertops': {}, 'Granite': {}, 'Quartz': {}, 'Laminate': {}, 'L1': {}, 'L2': {}})"
      ]
     },
     "execution_count": 213,
     "metadata": {},
     "output_type": "execute_result"
    }
   ],
   "source": [
    "G['Countertops']"
   ]
  },
  {
   "cell_type": "code",
   "execution_count": 216,
   "metadata": {},
   "outputs": [
    {
     "data": {
      "text/plain": [
       "AtlasView({'Sink Bowl': {}, 'Faucet': {}})"
      ]
     },
     "execution_count": 216,
     "metadata": {},
     "output_type": "execute_result"
    }
   ],
   "source": [
    "G['Sink']"
   ]
  },
  {
   "cell_type": "code",
   "execution_count": 224,
   "metadata": {},
   "outputs": [
    {
     "ename": "TypeError",
     "evalue": "G is not a tree.",
     "output_type": "error",
     "traceback": [
      "\u001b[0;31m---------------------------------------------------------------------------\u001b[0m",
      "\u001b[0;31mTypeError\u001b[0m                                 Traceback (most recent call last)",
      "\u001b[0;32m<ipython-input-224-c0a6268f3570>\u001b[0m in \u001b[0;36m<module>\u001b[0;34m\u001b[0m\n\u001b[0;32m----> 1\u001b[0;31m \u001b[0mjson_graph\u001b[0m\u001b[0;34m.\u001b[0m\u001b[0mtree_data\u001b[0m\u001b[0;34m(\u001b[0m\u001b[0mG\u001b[0m\u001b[0;34m,\u001b[0m\u001b[0mroot\u001b[0m\u001b[0;34m=\u001b[0m\u001b[0;36m1\u001b[0m\u001b[0;34m)\u001b[0m\u001b[0;34m\u001b[0m\u001b[0;34m\u001b[0m\u001b[0m\n\u001b[0m",
      "\u001b[0;32m~/opt/anaconda3/lib/python3.8/site-packages/networkx/readwrite/json_graph/tree.py\u001b[0m in \u001b[0;36mtree_data\u001b[0;34m(G, root, attrs)\u001b[0m\n\u001b[1;32m     63\u001b[0m     \"\"\"\n\u001b[1;32m     64\u001b[0m     \u001b[0;32mif\u001b[0m \u001b[0mG\u001b[0m\u001b[0;34m.\u001b[0m\u001b[0mnumber_of_nodes\u001b[0m\u001b[0;34m(\u001b[0m\u001b[0;34m)\u001b[0m \u001b[0;34m!=\u001b[0m \u001b[0mG\u001b[0m\u001b[0;34m.\u001b[0m\u001b[0mnumber_of_edges\u001b[0m\u001b[0;34m(\u001b[0m\u001b[0;34m)\u001b[0m \u001b[0;34m+\u001b[0m \u001b[0;36m1\u001b[0m\u001b[0;34m:\u001b[0m\u001b[0;34m\u001b[0m\u001b[0;34m\u001b[0m\u001b[0m\n\u001b[0;32m---> 65\u001b[0;31m         \u001b[0;32mraise\u001b[0m \u001b[0mTypeError\u001b[0m\u001b[0;34m(\u001b[0m\u001b[0;34m\"G is not a tree.\"\u001b[0m\u001b[0;34m)\u001b[0m\u001b[0;34m\u001b[0m\u001b[0;34m\u001b[0m\u001b[0m\n\u001b[0m\u001b[1;32m     66\u001b[0m     \u001b[0;32mif\u001b[0m \u001b[0;32mnot\u001b[0m \u001b[0mG\u001b[0m\u001b[0;34m.\u001b[0m\u001b[0mis_directed\u001b[0m\u001b[0;34m(\u001b[0m\u001b[0;34m)\u001b[0m\u001b[0;34m:\u001b[0m\u001b[0;34m\u001b[0m\u001b[0;34m\u001b[0m\u001b[0m\n\u001b[1;32m     67\u001b[0m         \u001b[0;32mraise\u001b[0m \u001b[0mTypeError\u001b[0m\u001b[0;34m(\u001b[0m\u001b[0;34m\"G is not directed.\"\u001b[0m\u001b[0;34m)\u001b[0m\u001b[0;34m\u001b[0m\u001b[0;34m\u001b[0m\u001b[0m\n",
      "\u001b[0;31mTypeError\u001b[0m: G is not a tree."
     ]
    }
   ],
   "source": [
    "json_graph.tree_data(G,root=1)"
   ]
  },
  {
   "cell_type": "code",
   "execution_count": 217,
   "metadata": {},
   "outputs": [
    {
     "data": {
      "text/plain": [
       "['Cabinets', 'Countertops', 'Sink', 'Tile', 'Appliances']"
      ]
     },
     "execution_count": 217,
     "metadata": {},
     "output_type": "execute_result"
    }
   ],
   "source": [
    "[item for item in nx.neighbors(G, 'Kitchen')]"
   ]
  },
  {
   "cell_type": "code",
   "execution_count": 218,
   "metadata": {},
   "outputs": [
    {
     "data": {
      "text/plain": [
       "['New Box Sets', 'Paint', 'Hardware']"
      ]
     },
     "execution_count": 218,
     "metadata": {},
     "output_type": "execute_result"
    }
   ],
   "source": [
    "[item for item in nx.neighbors(G, 'Cabinets')]"
   ]
  },
  {
   "cell_type": "code",
   "execution_count": null,
   "metadata": {},
   "outputs": [],
   "source": []
  }
 ],
 "metadata": {
  "kernelspec": {
   "display_name": "Python 3",
   "language": "python",
   "name": "python3"
  },
  "language_info": {
   "codemirror_mode": {
    "name": "ipython",
    "version": 3
   },
   "file_extension": ".py",
   "mimetype": "text/x-python",
   "name": "python",
   "nbconvert_exporter": "python",
   "pygments_lexer": "ipython3",
   "version": "3.8.5"
  }
 },
 "nbformat": 4,
 "nbformat_minor": 4
}
