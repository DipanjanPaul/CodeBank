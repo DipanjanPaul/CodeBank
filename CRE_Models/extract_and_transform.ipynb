{
 "cells": [
  {
   "cell_type": "code",
   "execution_count": 1,
   "metadata": {},
   "outputs": [],
   "source": [
    "import pandas as pd\n",
    "import numpy as np\n",
    "\n",
    "from pandas_profiling import ProfileReport\n",
    "import plotly.express as px\n",
    "import re\n",
    "\n",
    "from itertools import groupby\n",
    "from datetime import datetime\n",
    "import math\n",
    "\n",
    "#import re\n",
    "#from nltk.stem import WordNetLemmatizer, PorterStemmer, SnowballStemmer\n",
    "\n",
    "#from nltk.corpus import stopwords\n",
    "#from nltk.tokenize import word_tokenize\n",
    "\n",
    "\n",
    "\n",
    "\n",
    "import seaborn as sns\n",
    "\n",
    "import zipfile\n",
    "\n",
    "pd.options.display.max_columns = 100\n",
    "pd.options.display.max_rows = 100\n",
    "pd.options.display.max_colwidth = 50"
   ]
  },
  {
   "cell_type": "code",
   "execution_count": 2,
   "metadata": {},
   "outputs": [
    {
     "data": {
      "text/html": [
       "<div>\n",
       "<style scoped>\n",
       "    .dataframe tbody tr th:only-of-type {\n",
       "        vertical-align: middle;\n",
       "    }\n",
       "\n",
       "    .dataframe tbody tr th {\n",
       "        vertical-align: top;\n",
       "    }\n",
       "\n",
       "    .dataframe thead th {\n",
       "        text-align: right;\n",
       "    }\n",
       "</style>\n",
       "<table border=\"1\" class=\"dataframe\">\n",
       "  <thead>\n",
       "    <tr style=\"text-align: right;\">\n",
       "      <th></th>\n",
       "      <th>Address</th>\n",
       "      <th>City</th>\n",
       "      <th>State</th>\n",
       "      <th>Zip</th>\n",
       "      <th>property-href</th>\n",
       "      <th>Sale Price</th>\n",
       "      <th>Redfin Estimate</th>\n",
       "      <th>Beds</th>\n",
       "      <th>Baths</th>\n",
       "      <th>Size</th>\n",
       "      <th>Listing Agent</th>\n",
       "      <th>Listing Broker</th>\n",
       "      <th>Buyers Agent</th>\n",
       "      <th>Buyers Broker</th>\n",
       "      <th>Fact 1</th>\n",
       "      <th>Fact 2</th>\n",
       "      <th>Fact 3</th>\n",
       "      <th>Fact 4</th>\n",
       "      <th>Fact 5</th>\n",
       "      <th>Fact 6</th>\n",
       "      <th>Description</th>\n",
       "      <th>Built</th>\n",
       "      <th>Pricing Insights</th>\n",
       "      <th>Details</th>\n",
       "      <th>Amenities</th>\n",
       "      <th>Comments</th>\n",
       "      <th>Price History</th>\n",
       "      <th>Public Facts</th>\n",
       "      <th>Full Details</th>\n",
       "      <th>School</th>\n",
       "      <th>Walk Score</th>\n",
       "      <th>Transit Score</th>\n",
       "      <th>Bike Score</th>\n",
       "      <th>Similar Homes 1</th>\n",
       "      <th>Similar Home 2</th>\n",
       "      <th>Similar Home 3</th>\n",
       "      <th>Similar Home 4</th>\n",
       "      <th>Similar Home 5</th>\n",
       "      <th>Similar Home 6</th>\n",
       "      <th>Similar Home 7</th>\n",
       "      <th>Similar Home 8</th>\n",
       "      <th>Similar Home 9</th>\n",
       "      <th>Recently Sold 1</th>\n",
       "      <th>Recently Sold 2</th>\n",
       "      <th>Recently Sold 3</th>\n",
       "      <th>Price Insight 1</th>\n",
       "      <th>Price Insight 2</th>\n",
       "      <th>Price/SF</th>\n",
       "      <th>Price Insight 4</th>\n",
       "      <th>Home Status</th>\n",
       "      <th>Home Fact 2</th>\n",
       "      <th>Home Fact 3</th>\n",
       "      <th>Home Fact 4</th>\n",
       "      <th>Home Fact 5</th>\n",
       "      <th>Home Fact 6</th>\n",
       "      <th>Home Fact 7</th>\n",
       "    </tr>\n",
       "  </thead>\n",
       "  <tbody>\n",
       "    <tr>\n",
       "      <th>0</th>\n",
       "      <td>170 JEFFERSON Ave</td>\n",
       "      <td>North Plainfield</td>\n",
       "      <td>NJ</td>\n",
       "      <td>07060</td>\n",
       "      <td>https://www.redfin.com/NJ/North-Plainfield/172...</td>\n",
       "      <td>$140,000</td>\n",
       "      <td>$304,207</td>\n",
       "      <td>NaN</td>\n",
       "      <td>NaN</td>\n",
       "      <td>2,328</td>\n",
       "      <td>NaN</td>\n",
       "      <td>NaN</td>\n",
       "      <td>NaN</td>\n",
       "      <td>NaN</td>\n",
       "      <td>NaN</td>\n",
       "      <td>NaN</td>\n",
       "      <td>NaN</td>\n",
       "      <td>NaN</td>\n",
       "      <td>NaN</td>\n",
       "      <td>NaN</td>\n",
       "      <td>NaN</td>\n",
       "      <td>1924</td>\n",
       "      <td>Redfin Estimate$304,207Price/Sq.Ft.$131</td>\n",
       "      <td>StatusSoldYear Built1924Lot Size6,625 Sq. Ft.</td>\n",
       "      <td>NaN</td>\n",
       "      <td>NaN</td>\n",
       "      <td>TodayDec 11, 2019DateSold (Public Records)Publ...</td>\n",
       "      <td>Beds—Baths—Sq. Ft.2,328Stories2Lot Size6,625 S...</td>\n",
       "      <td>NaN</td>\n",
       "      <td>This home is within the  North Plainfield Boro...</td>\n",
       "      <td>59 / 100</td>\n",
       "      <td>33 / 100</td>\n",
       "      <td>44 / 100</td>\n",
       "      <td>Get $4,563 More Selling Your Home with a Redfi...</td>\n",
       "      <td>$319,900—Beds—Baths—Sq. Ft.241 Orange St, Dune...</td>\n",
       "      <td>$392,0003 Beds3.5 Baths—Sq. Ft.15 WEBER Ave, H...</td>\n",
       "      <td>NEW 10 HRS AGO$350,0005 Beds2 Baths1,543 Sq. F...</td>\n",
       "      <td>$435,000—Beds—Baths—Sq. Ft.417 Chestnut St, Mi...</td>\n",
       "      <td>$339,900—Beds—Baths1,946 Sq. Ft.205 N 3rd Ave,...</td>\n",
       "      <td>$299,0005 Beds2 Baths—Sq. Ft.137 Grove St, Nor...</td>\n",
       "      <td>$365,0006 Beds2 Baths1,690 Sq. Ft.210 FILAK Av...</td>\n",
       "      <td>$599,0004 Beds3.5 Baths—Sq. Ft.8 ROUND TOP Rd,...</td>\n",
       "      <td>SOLD SEP 28, 2020$570,000 Last Sold Price —Bed...</td>\n",
       "      <td>SOLD MAY 1, 2020$455,000 Last Sold Price —Beds...</td>\n",
       "      <td>SOLD JUL 16, 2020$110,000—Beds—Baths2,754 Sq. ...</td>\n",
       "      <td>$304,207</td>\n",
       "      <td>NaN</td>\n",
       "      <td>$131</td>\n",
       "      <td>NaN</td>\n",
       "      <td>Sold</td>\n",
       "      <td>Lot Size6,625 Sq. Ft.</td>\n",
       "      <td>NaN</td>\n",
       "      <td>NaN</td>\n",
       "      <td>Year Built1924</td>\n",
       "      <td>NaN</td>\n",
       "      <td>NaN</td>\n",
       "    </tr>\n",
       "    <tr>\n",
       "      <th>1</th>\n",
       "      <td>144 Countryside Dr Unit 4F</td>\n",
       "      <td>Basking Ridge</td>\n",
       "      <td>NJ</td>\n",
       "      <td>07920</td>\n",
       "      <td>https://www.redfin.com/NJ/Basking-Ridge/144-Co...</td>\n",
       "      <td>$200,000</td>\n",
       "      <td>$205,617</td>\n",
       "      <td>NaN</td>\n",
       "      <td>NaN</td>\n",
       "      <td>892</td>\n",
       "      <td>NaN</td>\n",
       "      <td>NaN</td>\n",
       "      <td>NaN</td>\n",
       "      <td>NaN</td>\n",
       "      <td>NaN</td>\n",
       "      <td>NaN</td>\n",
       "      <td>NaN</td>\n",
       "      <td>NaN</td>\n",
       "      <td>NaN</td>\n",
       "      <td>NaN</td>\n",
       "      <td>NaN</td>\n",
       "      <td>1983</td>\n",
       "      <td>NaN</td>\n",
       "      <td>NaN</td>\n",
       "      <td>Taxes / AssessmentsAssessor InformationAssessm...</td>\n",
       "      <td>NaN</td>\n",
       "      <td>TodayFeb 21, 2020DateSold (Public Records)Publ...</td>\n",
       "      <td>Beds—Baths—Sq. Ft.892Stories—Lot Size—StyleCon...</td>\n",
       "      <td>Taxes / AssessmentsAssessor InformationAssessm...</td>\n",
       "      <td>NaN</td>\n",
       "      <td>16 / 100</td>\n",
       "      <td>NaN</td>\n",
       "      <td>22 / 100</td>\n",
       "      <td>$375,0003 Beds1 Bath—Sq. Ft.160 MOUNT AIRY Rd,...</td>\n",
       "      <td>$375,0003 Beds1 Bath—Sq. Ft.160 MOUNT AIRY Rd,...</td>\n",
       "      <td>$679,0005 Beds3 Baths—Sq. Ft.9 BLAZURE Dr, Ber...</td>\n",
       "      <td>$509,0003 Beds2 Baths1,568 Sq. Ft.134 W OAK St...</td>\n",
       "      <td>$629,0004 Beds2.5 Baths—Sq. Ft.22 MAPLE VILLAG...</td>\n",
       "      <td>$279,9002 Beds2 Baths—Sq. Ft.232 English Pl, B...</td>\n",
       "      <td>$450,0003 Beds1.5 Baths—Sq. Ft.77 MINE MOUNT R...</td>\n",
       "      <td>$469,9003 Beds2 Baths1,759 Sq. Ft.11 Chilton S...</td>\n",
       "      <td>$739,9005 Beds2.5 Baths—Sq. Ft.58 MT AIRY Rd, ...</td>\n",
       "      <td>SOLD AUG 31, 2020$525,000 Last Sold Price 3 Be...</td>\n",
       "      <td>SOLD JUN 8, 2020$334,000 Last Sold Price 4 Bed...</td>\n",
       "      <td>SOLD SEP 4, 2020$440,000 Last Sold Price 3 Bed...</td>\n",
       "      <td>NaN</td>\n",
       "      <td>NaN</td>\n",
       "      <td>NaN</td>\n",
       "      <td>NaN</td>\n",
       "      <td>NaN</td>\n",
       "      <td>NaN</td>\n",
       "      <td>NaN</td>\n",
       "      <td>NaN</td>\n",
       "      <td>NaN</td>\n",
       "      <td>NaN</td>\n",
       "      <td>NaN</td>\n",
       "    </tr>\n",
       "  </tbody>\n",
       "</table>\n",
       "</div>"
      ],
      "text/plain": [
       "                      Address              City State    Zip  \\\n",
       "0           170 JEFFERSON Ave  North Plainfield    NJ  07060   \n",
       "1  144 Countryside Dr Unit 4F     Basking Ridge    NJ  07920   \n",
       "\n",
       "                                       property-href  Sale Price   \\\n",
       "0  https://www.redfin.com/NJ/North-Plainfield/172...    $140,000    \n",
       "1  https://www.redfin.com/NJ/Basking-Ridge/144-Co...    $200,000    \n",
       "\n",
       "   Redfin Estimate  Beds Baths   Size Listing Agent Listing Broker  \\\n",
       "0         $304,207   NaN   NaN  2,328           NaN            NaN   \n",
       "1         $205,617   NaN   NaN    892           NaN            NaN   \n",
       "\n",
       "  Buyers Agent Buyers Broker Fact 1 Fact 2 Fact 3 Fact 4 Fact 5 Fact 6  \\\n",
       "0          NaN           NaN    NaN    NaN    NaN    NaN    NaN    NaN   \n",
       "1          NaN           NaN    NaN    NaN    NaN    NaN    NaN    NaN   \n",
       "\n",
       "  Description Built                         Pricing Insights  \\\n",
       "0         NaN  1924  Redfin Estimate$304,207Price/Sq.Ft.$131   \n",
       "1         NaN  1983                                      NaN   \n",
       "\n",
       "                                         Details  \\\n",
       "0  StatusSoldYear Built1924Lot Size6,625 Sq. Ft.   \n",
       "1                                            NaN   \n",
       "\n",
       "                                           Amenities Comments  \\\n",
       "0                                                NaN      NaN   \n",
       "1  Taxes / AssessmentsAssessor InformationAssessm...      NaN   \n",
       "\n",
       "                                       Price History  \\\n",
       "0  TodayDec 11, 2019DateSold (Public Records)Publ...   \n",
       "1  TodayFeb 21, 2020DateSold (Public Records)Publ...   \n",
       "\n",
       "                                        Public Facts  \\\n",
       "0  Beds—Baths—Sq. Ft.2,328Stories2Lot Size6,625 S...   \n",
       "1  Beds—Baths—Sq. Ft.892Stories—Lot Size—StyleCon...   \n",
       "\n",
       "                                        Full Details  \\\n",
       "0                                                NaN   \n",
       "1  Taxes / AssessmentsAssessor InformationAssessm...   \n",
       "\n",
       "                                              School Walk Score Transit Score  \\\n",
       "0  This home is within the  North Plainfield Boro...   59 / 100      33 / 100   \n",
       "1                                                NaN   16 / 100           NaN   \n",
       "\n",
       "  Bike Score                                    Similar Homes 1  \\\n",
       "0   44 / 100  Get $4,563 More Selling Your Home with a Redfi...   \n",
       "1   22 / 100  $375,0003 Beds1 Bath—Sq. Ft.160 MOUNT AIRY Rd,...   \n",
       "\n",
       "                                      Similar Home 2  \\\n",
       "0  $319,900—Beds—Baths—Sq. Ft.241 Orange St, Dune...   \n",
       "1  $375,0003 Beds1 Bath—Sq. Ft.160 MOUNT AIRY Rd,...   \n",
       "\n",
       "                                      Similar Home 3  \\\n",
       "0  $392,0003 Beds3.5 Baths—Sq. Ft.15 WEBER Ave, H...   \n",
       "1  $679,0005 Beds3 Baths—Sq. Ft.9 BLAZURE Dr, Ber...   \n",
       "\n",
       "                                      Similar Home 4  \\\n",
       "0  NEW 10 HRS AGO$350,0005 Beds2 Baths1,543 Sq. F...   \n",
       "1  $509,0003 Beds2 Baths1,568 Sq. Ft.134 W OAK St...   \n",
       "\n",
       "                                      Similar Home 5  \\\n",
       "0  $435,000—Beds—Baths—Sq. Ft.417 Chestnut St, Mi...   \n",
       "1  $629,0004 Beds2.5 Baths—Sq. Ft.22 MAPLE VILLAG...   \n",
       "\n",
       "                                      Similar Home 6  \\\n",
       "0  $339,900—Beds—Baths1,946 Sq. Ft.205 N 3rd Ave,...   \n",
       "1  $279,9002 Beds2 Baths—Sq. Ft.232 English Pl, B...   \n",
       "\n",
       "                                      Similar Home 7  \\\n",
       "0  $299,0005 Beds2 Baths—Sq. Ft.137 Grove St, Nor...   \n",
       "1  $450,0003 Beds1.5 Baths—Sq. Ft.77 MINE MOUNT R...   \n",
       "\n",
       "                                      Similar Home 8  \\\n",
       "0  $365,0006 Beds2 Baths1,690 Sq. Ft.210 FILAK Av...   \n",
       "1  $469,9003 Beds2 Baths1,759 Sq. Ft.11 Chilton S...   \n",
       "\n",
       "                                      Similar Home 9  \\\n",
       "0  $599,0004 Beds3.5 Baths—Sq. Ft.8 ROUND TOP Rd,...   \n",
       "1  $739,9005 Beds2.5 Baths—Sq. Ft.58 MT AIRY Rd, ...   \n",
       "\n",
       "                                     Recently Sold 1  \\\n",
       "0  SOLD SEP 28, 2020$570,000 Last Sold Price —Bed...   \n",
       "1  SOLD AUG 31, 2020$525,000 Last Sold Price 3 Be...   \n",
       "\n",
       "                                     Recently Sold 2  \\\n",
       "0  SOLD MAY 1, 2020$455,000 Last Sold Price —Beds...   \n",
       "1  SOLD JUN 8, 2020$334,000 Last Sold Price 4 Bed...   \n",
       "\n",
       "                                     Recently Sold 3 Price Insight 1  \\\n",
       "0  SOLD JUL 16, 2020$110,000—Beds—Baths2,754 Sq. ...       $304,207    \n",
       "1  SOLD SEP 4, 2020$440,000 Last Sold Price 3 Bed...             NaN   \n",
       "\n",
       "  Price Insight 2 Price/SF Price Insight 4 Home Status            Home Fact 2  \\\n",
       "0             NaN    $131              NaN        Sold  Lot Size6,625 Sq. Ft.   \n",
       "1             NaN      NaN             NaN         NaN                    NaN   \n",
       "\n",
       "  Home Fact 3 Home Fact 4     Home Fact 5 Home Fact 6 Home Fact 7  \n",
       "0         NaN         NaN  Year Built1924         NaN         NaN  \n",
       "1         NaN         NaN             NaN         NaN         NaN  "
      ]
     },
     "execution_count": 2,
     "metadata": {},
     "output_type": "execute_result"
    }
   ],
   "source": [
    "zf = zipfile.ZipFile('../data/raw/Somerset Sold Homes .csv.zip') \n",
    "df = pd.read_csv(zf.open('Somerset Sold Homes .csv'))\n",
    "df.head(2)"
   ]
  },
  {
   "cell_type": "code",
   "execution_count": 3,
   "metadata": {},
   "outputs": [],
   "source": [
    "## Read the web scrapped file\n",
    "##df=pd.read_csv('../data/raw/Somerset Sold Homes .csv.zip', compression='zip', header=0)\n",
    "##df.head(2)"
   ]
  },
  {
   "cell_type": "code",
   "execution_count": 4,
   "metadata": {},
   "outputs": [
    {
     "data": {
      "text/plain": [
       "(4441, 56)"
      ]
     },
     "execution_count": 4,
     "metadata": {},
     "output_type": "execute_result"
    }
   ],
   "source": [
    "## Remove rows with unknown address\n",
    "df = df[-(df.Address.isin(['Unknown Address']))]\n",
    "df.shape"
   ]
  },
  {
   "cell_type": "markdown",
   "metadata": {},
   "source": [
    "#### Dropping rows/columns and resetting the index"
   ]
  },
  {
   "cell_type": "code",
   "execution_count": 5,
   "metadata": {},
   "outputs": [
    {
     "data": {
      "text/plain": [
       "3108.7"
      ]
     },
     "execution_count": 5,
     "metadata": {},
     "output_type": "execute_result"
    }
   ],
   "source": [
    "## List all columns and how many null values they have\n",
    "##df.apply(lambda x: np.sum(x.isnull()))\n",
    "drp_thrshld = len(df)*.7\n",
    "drp_thrshld"
   ]
  },
  {
   "cell_type": "code",
   "execution_count": 6,
   "metadata": {},
   "outputs": [
    {
     "data": {
      "text/plain": [
       "(4152, 44)"
      ]
     },
     "execution_count": 6,
     "metadata": {},
     "output_type": "execute_result"
    }
   ],
   "source": [
    "x = df.apply(lambda x: np.sum(x.isnull()))\n",
    "df.drop(x[x > drp_thrshld].index, axis=1, inplace=True)\n",
    "\n",
    "df = df[-df.City.isnull()]\n",
    "df = df[-df.Address.isnull()]\n",
    "df = df[-df.Zip.isnull()]\n",
    "\n",
    "df.shape\n",
    "##df.apply(lambda x: np.sum(x.isnull()))"
   ]
  },
  {
   "cell_type": "code",
   "execution_count": 7,
   "metadata": {},
   "outputs": [
    {
     "data": {
      "text/plain": [
       "(3472, 45)"
      ]
     },
     "execution_count": 7,
     "metadata": {},
     "output_type": "execute_result"
    }
   ],
   "source": [
    "## Identify if the listed property is a condo and remove them\n",
    "is_condo = ['Y' if ('Condo' in str(x)) else 'N' for x in df['Public Facts']]\n",
    "df['is_condo'] = is_condo\n",
    "df = df[df.is_condo == 'N']\n",
    "df.shape"
   ]
  },
  {
   "cell_type": "code",
   "execution_count": 8,
   "metadata": {},
   "outputs": [
    {
     "data": {
      "text/plain": [
       "3472"
      ]
     },
     "execution_count": 8,
     "metadata": {},
     "output_type": "execute_result"
    }
   ],
   "source": [
    "len(np.unique(df['property-href']))"
   ]
  },
  {
   "cell_type": "code",
   "execution_count": 9,
   "metadata": {},
   "outputs": [
    {
     "data": {
      "text/plain": [
       "(3472, 45)"
      ]
     },
     "execution_count": 9,
     "metadata": {},
     "output_type": "execute_result"
    }
   ],
   "source": [
    "df.drop_duplicates(subset = ['property-href'], inplace=True)\n",
    "df.shape"
   ]
  },
  {
   "cell_type": "code",
   "execution_count": 10,
   "metadata": {},
   "outputs": [],
   "source": [
    "df.reset_index(inplace=True, drop=True)"
   ]
  },
  {
   "cell_type": "code",
   "execution_count": 11,
   "metadata": {},
   "outputs": [],
   "source": [
    "##df.apply(lambda x: np.sum(x.isnull()))"
   ]
  },
  {
   "cell_type": "markdown",
   "metadata": {},
   "source": [
    "### General Search"
   ]
  },
  {
   "cell_type": "code",
   "execution_count": 12,
   "metadata": {},
   "outputs": [],
   "source": [
    "#x = df.apply(lambda col: np.sum(['Upgrade' in str(x) for x in col]))\n",
    "##x = df.apply(lambda col: np.sum(['Condo' in str(x) for x in col]))\n",
    "#x[x>0]"
   ]
  },
  {
   "cell_type": "code",
   "execution_count": 13,
   "metadata": {},
   "outputs": [],
   "source": [
    "##[x.split('Upgrade')[1][0:100] for x in df.Amenities if 'Upgrade' in str(x)]"
   ]
  },
  {
   "cell_type": "markdown",
   "metadata": {},
   "source": [
    "### The following section scans through the \"Amenities\" columns and looks for information on the property. This is a process of generating addtional features from unstructured data"
   ]
  },
  {
   "cell_type": "code",
   "execution_count": 14,
   "metadata": {
    "scrolled": false
   },
   "outputs": [
    {
     "name": "stdout",
     "output_type": "stream",
     "text": [
      "['Amenities']\n",
      "Amenities\n"
     ]
    }
   ],
   "source": [
    "f_wood = []\n",
    "f_tile = []\n",
    "f_carpet = []\n",
    "f_laminate = []\n",
    "floor_upg_sts = []\n",
    "\n",
    "stl_shr = []\n",
    "\n",
    "#grmt_kit = []\n",
    "#kit_ilnd = []\n",
    "#w_d_bar = []\n",
    "kitchen_upg_sts = []\n",
    "\n",
    "house_int_upg_sts = []\n",
    "house_ext_upg_sts = []\n",
    "\n",
    "#rcs_ltng = [] \n",
    "#sky_lt = []\n",
    "#crn_mldg = []\n",
    "#fireplace = []\n",
    "\n",
    "sprnklr_s = []\n",
    "fencing = []\n",
    "twn_house = []\n",
    "deck_patio = []\n",
    "\n",
    "bsmt = []\n",
    "stories = []\n",
    "\n",
    "##Basement: Finished, Full, Recreation Room\n",
    "### of Stories: 1\n",
    "### Living Sq. Ft:\n",
    "\n",
    "s_cols = [x for x in df.columns if 'Amenities' in x ]\n",
    "print(s_cols)\n",
    "\n",
    "for cols in s_cols:\n",
    "    print(cols)\n",
    "    \n",
    "    df[cols].fillna('MI', inplace = True)\n",
    "    \n",
    "    for i, itm in enumerate(df[cols]):\n",
    "        \n",
    "        #grmt_kit.append('Y') if ('Gourmet' in itm) else grmt_kit.append('N')\n",
    "        #kit_ilnd.append('Y') if ('Island' in itm) else kit_ilnd.append('N')\n",
    "        #w_d_bar.append('Y') if ('Wet/Dry Bar' in itm) else w_d_bar.append('N')\n",
    "        #rcs_ltng.append('Y') if ('Recessed Lighting' in itm) else rcs_ltng.append('N')\n",
    "        #sky_lt.append('Y') if ('Skylight' in itm) else sky_lt.append('N')\n",
    "        #crn_mldg.append('Y') if ('Skylight' in itm) else crn_mldg.append('N')\n",
    "        \n",
    "        #Bathroom Upgrade\n",
    "        stl_shr.append('Y') if ('Stall Shower' in itm) else stl_shr.append('N')\n",
    "        \n",
    "        ## Internal Upgrade\n",
    "        if (('Recessed Lighting' in itm) | ('Skylight' in itm) | ('Skylight' in itm)):\n",
    "            house_int_upg_sts.append('Y')\n",
    "        else:\n",
    "            house_int_upg_sts.append('N')\n",
    "        \n",
    "        ## External Upgrade\n",
    "        if (('Deck' in itm) | ('Patio' in itm) | ('Sprinkler' in itm) | ('Fencing' in itm)):\n",
    "            house_ext_upg_sts.append('Y')\n",
    "        else:\n",
    "            house_ext_upg_sts.append('N')\n",
    "         \n",
    "        #Kitchen Upgrade\n",
    "        if (('Countertop' in itm) | ('Gourmet' in itm) | ('Island' in itm) | ('Wet/Dry Bar' in itm) |\n",
    "            ('Granite/Corian' in x) | ('Upgraded' in itm.split('Countertop')[0][-15:])):\n",
    "            kitchen_upg_sts.append('Y')\n",
    "        else:\n",
    "            kitchen_upg_sts.append('N')\n",
    "        \n",
    "        #Floor Upgrade\n",
    "        if ('Flooring: ' in itm):\n",
    "            x = itm.split('Flooring: ')[1].split('Interior Features')[0][0:50]\n",
    "            f_wood.append('Y') if 'Wood' in x else f_wood.append('N') \n",
    "            f_tile.append('Y') if ('Marble' in x or 'Tile' in x) else f_tile.append('N')\n",
    "            f_carpet.append('Y') if ('Carpet' in x) else f_carpet.append('N') \n",
    "            f_laminate.append('Y') if ('Laminate' in x or 'Vinyl' in x) else f_laminate.append('N')\n",
    "        else:\n",
    "            f_wood.append('UNK')\n",
    "            f_tile.append('UNK')\n",
    "            f_carpet.append('UNK')\n",
    "            f_laminate.append('UNK')\n",
    "            \n",
    "        floor_upg_val = ((f_wood[i] == 'Y')*2 + (f_tile[i] == 'Y')*2 + \n",
    "                          (f_carpet[i] == 'Y')*1 + (f_laminate[i] == 'Y')*1)\n",
    "        \n",
    "        floor_upg_sts.append(['Y' if floor_upg_val >=3 else 'N'])\n",
    "        \n",
    "        ##Basement Upgrade\n",
    "        if ('Basement Information' in itm):\n",
    "            x = itm.split('Basement Information')[1]\n",
    "            if ('Finished' in x):\n",
    "                bsmt.append('FN')\n",
    "            else:\n",
    "                bsmt.append('UF')\n",
    "        else:\n",
    "            bsmt.append('NB')\n",
    "        \n",
    "        #Other Information\n",
    "        twn_house.append('Y') if ('Townhouse' in itm) else twn_house.append('N')\n",
    "       \n",
    "        if ('# of Stories: ' in itm):\n",
    "            x = itm.split('# of Stories: ')\n",
    "            stories.append(re.sub('[^0-9.]', '', x[1][0:4]))\n",
    "        else:\n",
    "            stories.append('UNK')\n",
    "        "
   ]
  },
  {
   "cell_type": "code",
   "execution_count": 15,
   "metadata": {
    "scrolled": false
   },
   "outputs": [],
   "source": [
    "##[x for x in df['Full Details'] if 'wood' in str(x)][0:10]"
   ]
  },
  {
   "cell_type": "markdown",
   "metadata": {},
   "source": [
    "#### Zip Code Cleanup and Split"
   ]
  },
  {
   "cell_type": "code",
   "execution_count": 16,
   "metadata": {},
   "outputs": [],
   "source": [
    "## Zip Code Cleanup\n",
    "\n",
    "def z_splitter(x, ix):\n",
    "    \n",
    "    if x is None:\n",
    "        return(\"MI\")\n",
    "    \n",
    "    x = str(x)\n",
    "        \n",
    "    if ix == 1: \n",
    "        x = x.split(\"-\")[0]\n",
    "        if len(x) == 5:\n",
    "            return(x)\n",
    "        else:\n",
    "            return('0' + x)\n",
    "    else:\n",
    "        if len(x.split(\"-\")) > 1:\n",
    "            return(x.split(\"-\")[1])\n",
    "        else:\n",
    "            return(\"MI\")\n",
    "\n",
    "Zip_5 = df.Zip.apply(lambda x: z_splitter(x, 1))\n",
    "Zip_E = df.Zip.apply(lambda x: z_splitter(x, 2))\n",
    "                     "
   ]
  },
  {
   "cell_type": "code",
   "execution_count": 17,
   "metadata": {},
   "outputs": [
    {
     "data": {
      "text/plain": [
       "0"
      ]
     },
     "execution_count": 17,
     "metadata": {},
     "output_type": "execute_result"
    }
   ],
   "source": [
    "np.sum([x=='MI' for x in Zip_5])"
   ]
  },
  {
   "cell_type": "code",
   "execution_count": 18,
   "metadata": {},
   "outputs": [],
   "source": [
    "## General Search\n",
    "#x = df.apply(lambda col: np.sum(['Granite' in str(x) for x in col]))\n",
    "#x[x>0]"
   ]
  },
  {
   "cell_type": "markdown",
   "metadata": {},
   "source": [
    "#### Extracting MLS"
   ]
  },
  {
   "cell_type": "code",
   "execution_count": 19,
   "metadata": {},
   "outputs": [
    {
     "data": {
      "text/plain": [
       "['MI', 'MLS #3', 'MI', 'MI']"
      ]
     },
     "execution_count": 19,
     "metadata": {},
     "output_type": "execute_result"
    }
   ],
   "source": [
    "##Finding all columns containing MLS# and extract MLS# from them\n",
    "\n",
    "x = df.apply(lambda col: np.sum(['MLS #' in str(x) for x in col]))\n",
    "\n",
    "mrg = df[x[x>0].index].apply(lambda x: ''.join(str(x)), axis=1)\n",
    "\n",
    "MLS = [re.findall(\"MLS #[0-9]+\", str(x), re.IGNORECASE)[0] \n",
    "     if re.findall(\"MLS #[0-9]+\", str(x), re.IGNORECASE) else 'MI'\n",
    "     for x in mrg]\n",
    "\n",
    "MLS[0:4]\n"
   ]
  },
  {
   "cell_type": "code",
   "execution_count": 20,
   "metadata": {},
   "outputs": [
    {
     "name": "stdout",
     "output_type": "stream",
     "text": [
      "2618 186\n"
     ]
    }
   ],
   "source": [
    "print(np.sum([x=='MI' for x in MLS]), len(np.unique(MLS)))"
   ]
  },
  {
   "cell_type": "markdown",
   "metadata": {},
   "source": [
    "#### Cleaning up the Bathrooms"
   ]
  },
  {
   "cell_type": "code",
   "execution_count": 21,
   "metadata": {},
   "outputs": [
    {
     "name": "stdout",
     "output_type": "stream",
     "text": [
      "1575 14\n"
     ]
    }
   ],
   "source": [
    "##del baths\n",
    "baths = []\n",
    "df.Baths.fillna('MI', inplace=True)\n",
    "df['Public Facts'].fillna('MI', inplace=True)\n",
    "\n",
    "for i, itm in enumerate(df.Baths):\n",
    "    \n",
    "    if itm != 'MI':\n",
    "        baths.append(itm)\n",
    "    else:\n",
    "        ##print(i)\n",
    "        if df['Public Facts'][i] != 'MI' and len(df.loc[i, 'Public Facts'].split('Baths')) > 1:\n",
    "\n",
    "            if df.loc[i, 'Public Facts'].split('Baths')[1].split('Sq. Ft.')[0] != \"—\":\n",
    "                ##print(df.loc[i, 'Public Facts'].split('Baths')[1].split('Sq. Ft.')[0] )\n",
    "                baths.append(df.loc[i, 'Public Facts'].split('Baths')[1].split('Sq. Ft.')[0])\n",
    "            else:\n",
    "                baths.append('MI')\n",
    "        else:\n",
    "            baths.append('MI')\n",
    "        \n",
    "print(np.sum([x=='MI' for x in baths]), len(np.unique(baths)))"
   ]
  },
  {
   "cell_type": "markdown",
   "metadata": {},
   "source": [
    "#### Getting the Bedrooms"
   ]
  },
  {
   "cell_type": "code",
   "execution_count": 22,
   "metadata": {},
   "outputs": [
    {
     "name": "stdout",
     "output_type": "stream",
     "text": [
      "1593 10\n"
     ]
    }
   ],
   "source": [
    "beds = []\n",
    "df.Beds.fillna('MI', inplace=True)\n",
    "df['Public Facts'].fillna('MI', inplace=True)\n",
    "\n",
    "for i, itm in enumerate(df.Beds):\n",
    "    \n",
    "    if itm != 'MI':\n",
    "        beds.append(itm)\n",
    "    else:\n",
    "        if df['Public Facts'][i] != 'MI':\n",
    "\n",
    "            if df.loc[i, 'Public Facts'].split('Beds')[1].split('Baths')[0] != \"—\":\n",
    "                ##print(df.loc[i, 'Public Facts'].split('Baths')[1].split('Sq. Ft.')[0] )\n",
    "                beds.append(df.loc[i, 'Public Facts'].split('Beds')[1].split('Baths')[0])\n",
    "            else:\n",
    "                beds.append('MI')\n",
    "        else:\n",
    "            beds.append('MI')\n",
    "        \n",
    "print(np.sum([x=='MI' for x in beds]), len(np.unique(beds)))"
   ]
  },
  {
   "cell_type": "markdown",
   "metadata": {},
   "source": [
    "#### Finding the age of the house based on the year it was built"
   ]
  },
  {
   "cell_type": "code",
   "execution_count": 23,
   "metadata": {
    "scrolled": true
   },
   "outputs": [
    {
     "name": "stdout",
     "output_type": "stream",
     "text": [
      "0 147\n"
     ]
    }
   ],
   "source": [
    "## Compute the age of the current year\n",
    "this_year = datetime.today().year\n",
    "\n",
    "age = [re.findall(\"[0-9]{4}\", str(x), re.IGNORECASE)[0] \n",
    "     if re.findall(\"[0-9]{4}\", str(x), re.IGNORECASE) else ''\n",
    "     for x in df.Built]\n",
    "\n",
    "age = [this_year - int(x) if x != '' else 100 for x in age]\n",
    "\n",
    "print(np.sum([x=='MI' for x in age]), len(np.unique(age)))"
   ]
  },
  {
   "cell_type": "code",
   "execution_count": 24,
   "metadata": {},
   "outputs": [],
   "source": [
    "##x = df.apply(lambda col: np.sum(['Lot Size' in str(x) for x in col]))\n",
    "##x[x>0]"
   ]
  },
  {
   "cell_type": "markdown",
   "metadata": {},
   "source": [
    "#### Finding the Lot Size"
   ]
  },
  {
   "cell_type": "code",
   "execution_count": 25,
   "metadata": {},
   "outputs": [
    {
     "name": "stdout",
     "output_type": "stream",
     "text": [
      "330\n"
     ]
    }
   ],
   "source": [
    "lot_size = []\n",
    "for i, itm in enumerate(df['Public Facts']):\n",
    "    if len(itm.split('Lot Size')) > 1:\n",
    "        temp = itm.split('Lot Size')[1]\n",
    "        if 'Sq. Ft.' in temp:\n",
    "            temp = temp.split('Sq. Ft.')[0]\n",
    "            temp = re.sub(\"[^0-9.]+\", '', temp)\n",
    "            lot_size.append(temp)\n",
    "        elif 'Acres' in temp:\n",
    "            temp = temp.split('Acres')[0]\n",
    "            temp = np.round(float(temp)*40000)\n",
    "            lot_size.append(temp)\n",
    "        else:\n",
    "            lot_size.append('MI')\n",
    "    else:\n",
    "        lot_size.append('MI')\n",
    "        \n",
    "print(np.sum([x=='MI' for x in lot_size]))"
   ]
  },
  {
   "cell_type": "code",
   "execution_count": 26,
   "metadata": {},
   "outputs": [],
   "source": [
    "##np.max([float(x) for x in lot_size if x != 'MI'])"
   ]
  },
  {
   "cell_type": "code",
   "execution_count": 27,
   "metadata": {},
   "outputs": [],
   "source": [
    "##lot_size.index(992400.0)"
   ]
  },
  {
   "cell_type": "code",
   "execution_count": 28,
   "metadata": {},
   "outputs": [],
   "source": [
    "##df['Public Facts'][2805]"
   ]
  },
  {
   "cell_type": "code",
   "execution_count": 29,
   "metadata": {},
   "outputs": [],
   "source": [
    "##sns.distplot([float(x) for x in lot_size if x != 'MI'])"
   ]
  },
  {
   "cell_type": "code",
   "execution_count": 30,
   "metadata": {},
   "outputs": [],
   "source": [
    "#lot_size = [re.sub(\"[.]{2}\", '', x) for x in lot_size]\n",
    "#lot_size = [np.round(float(x)*40000) if ((x!='MI') and (float(x) <= 10)) else x for x in lot_size]\n",
    "##lot_size = [float(x) if (x!='') else 'MI' for x in lot_size]\n",
    "\n",
    "##lot_size[0:10]"
   ]
  },
  {
   "cell_type": "markdown",
   "metadata": {},
   "source": [
    "#### Finding the date the house relisted"
   ]
  },
  {
   "cell_type": "code",
   "execution_count": 31,
   "metadata": {},
   "outputs": [],
   "source": [
    "d_listed = df['Price History']\n",
    "d_listed.fillna(\"MI\", inplace = True)\n",
    "d_listed = [x.split('DateListed')[0] if (('DateListed' in x)) else 'MI' for x in d_listed]\n",
    "d_listed = [x[::-1] for x in d_listed]\n",
    "d_listed = [x.split('ecirP')[0] for x in d_listed]\n",
    "d_listed = [x[::-1] for x in d_listed]\n",
    "\n",
    "temp=[]\n",
    "for i, itm in enumerate(d_listed):\n",
    "    \n",
    "    if itm != 'MI':\n",
    "        d = re.search('[a-zA-Z]{3}( )[0-9]{1,2}(, )[0-9]{4}', itm)\n",
    "        #print(i,d.group(0))\n",
    "        temp.append(datetime.strptime(d.group(0), '%b %d, %Y').strftime('%Y-%m-%d'))\n",
    "    else:\n",
    "        temp.append(itm)\n",
    "\n",
    "d_listed = temp\n",
    "del temp  "
   ]
  },
  {
   "cell_type": "code",
   "execution_count": 32,
   "metadata": {},
   "outputs": [
    {
     "name": "stdout",
     "output_type": "stream",
     "text": [
      "573 594\n"
     ]
    }
   ],
   "source": [
    "print(np.sum([x == 'MI' for x in d_listed]), len(np.unique(d_listed)))"
   ]
  },
  {
   "cell_type": "markdown",
   "metadata": {},
   "source": [
    "#### Finding the Sale Date"
   ]
  },
  {
   "cell_type": "code",
   "execution_count": 33,
   "metadata": {},
   "outputs": [
    {
     "name": "stdout",
     "output_type": "stream",
     "text": [
      "328 300\n"
     ]
    }
   ],
   "source": [
    "sale_date = df['Price History']\n",
    "sale_date.fillna(\"MI\", inplace = True)\n",
    "sale_date = [x.split('Today')[1] if ('Today' in x) else 'MI' for x in sale_date]\n",
    "sale_date = [x.split('DateSold')[0] if ('DateSold' in x) else 'MI' for x in sale_date]\n",
    "\n",
    "temp=[]\n",
    "for i, itm in enumerate(sale_date):\n",
    "    \n",
    "    if itm != 'MI':\n",
    "        d = re.search('[a-zA-Z]{3}( )[0-9]{1,2}(, )[0-9]{4}', itm)\n",
    "        ##print(i,d.group(0))\n",
    "        temp.append(datetime.strptime(d.group(0), '%b %d, %Y').strftime('%Y-%m-%d'))\n",
    "    else:\n",
    "        temp.append(itm)\n",
    "\n",
    "sale_date = temp\n",
    "del temp\n",
    "\n",
    "print(np.sum([x == 'MI' for x in sale_date]), len(np.unique(sale_date)))"
   ]
  },
  {
   "cell_type": "markdown",
   "metadata": {},
   "source": [
    "#### Finding the number of times the house was delisted/relisted"
   ]
  },
  {
   "cell_type": "code",
   "execution_count": 34,
   "metadata": {},
   "outputs": [
    {
     "data": {
      "text/plain": [
       "[1, 1, 0, 3, 1, 5, 1, 0, 0, 2]"
      ]
     },
     "execution_count": 34,
     "metadata": {},
     "output_type": "execute_result"
    }
   ],
   "source": [
    "times_delisted = df['Price History']\n",
    "times_delisted.fillna(\"MI\", inplace = True)\n",
    "times_delisted = [(len(x.split('Delisted')) - 1) if (('Delisted' in x)) else 0 for x in times_delisted]\n",
    "times_delisted[0:10]"
   ]
  },
  {
   "cell_type": "code",
   "execution_count": 35,
   "metadata": {},
   "outputs": [
    {
     "data": {
      "text/plain": [
       "648"
      ]
     },
     "execution_count": 35,
     "metadata": {},
     "output_type": "execute_result"
    }
   ],
   "source": [
    "np.sum([x == 0 for x in times_delisted])"
   ]
  },
  {
   "cell_type": "markdown",
   "metadata": {},
   "source": [
    "#### Finding the property size of the house"
   ]
  },
  {
   "cell_type": "code",
   "execution_count": 36,
   "metadata": {},
   "outputs": [
    {
     "data": {
      "text/plain": [
       "221"
      ]
     },
     "execution_count": 36,
     "metadata": {},
     "output_type": "execute_result"
    }
   ],
   "source": [
    "size = df.Size\n",
    "size.fillna('MI', inplace=True)\n",
    "\n",
    "prop_size = []\n",
    "for i, itm in enumerate(df['Public Facts']):\n",
    "    if size[i] != 'MI':\n",
    "        prop_size.append(re.sub(\"[^0-9.]+\", '', size[i]))\n",
    "    else:\n",
    "        \n",
    "        if len(itm.split('Sq. Ft.')) > 1:\n",
    "            temp = itm.split('Sq. Ft.')[1]\n",
    "            if 'Stories' in temp:\n",
    "                temp = temp.split('Stories')[0]\n",
    "                temp = re.sub(\"[^0-9.]+\", '', temp)\n",
    "                if temp == '':\n",
    "                    prop_size.append('MI')\n",
    "                else:\n",
    "                    prop_size.append(temp)\n",
    "            else:\n",
    "                prop_size.append('MI')\n",
    "        else:\n",
    "            prop_size.append('MI')\n",
    "        \n",
    "np.sum([x == 'MI' for x in prop_size])"
   ]
  },
  {
   "cell_type": "code",
   "execution_count": 37,
   "metadata": {},
   "outputs": [],
   "source": [
    "##prop_size[0:10]"
   ]
  },
  {
   "cell_type": "code",
   "execution_count": 38,
   "metadata": {},
   "outputs": [],
   "source": [
    "c_add = [' '.join([str(a),str(b),str(c),str(d)]) \n",
    "             for (a,b,c,d) in zip(df['Address'], df['City'], df['State'], df['Zip'])]"
   ]
  },
  {
   "cell_type": "markdown",
   "metadata": {},
   "source": [
    "### Build the output dataset with all the additional features that were derived for each property (if those information were available. Otherwise the corresponding cell was popilated as \"MI\""
   ]
  },
  {
   "cell_type": "code",
   "execution_count": 39,
   "metadata": {},
   "outputs": [
    {
     "name": "stderr",
     "output_type": "stream",
     "text": [
      "/Users/dipanjanpaul/opt/anaconda3/lib/python3.8/site-packages/pandas/core/frame.py:4317: SettingWithCopyWarning: \n",
      "A value is trying to be set on a copy of a slice from a DataFrame\n",
      "\n",
      "See the caveats in the documentation: https://pandas.pydata.org/pandas-docs/stable/user_guide/indexing.html#returning-a-view-versus-a-copy\n",
      "  return super().fillna(\n",
      "/Users/dipanjanpaul/opt/anaconda3/lib/python3.8/site-packages/pandas/core/indexing.py:1596: SettingWithCopyWarning: \n",
      "A value is trying to be set on a copy of a slice from a DataFrame.\n",
      "Try using .loc[row_indexer,col_indexer] = value instead\n",
      "\n",
      "See the caveats in the documentation: https://pandas.pydata.org/pandas-docs/stable/user_guide/indexing.html#returning-a-view-versus-a-copy\n",
      "  self.obj[key] = _infer_fill_value(value)\n",
      "/Users/dipanjanpaul/opt/anaconda3/lib/python3.8/site-packages/pandas/core/indexing.py:1745: SettingWithCopyWarning: \n",
      "A value is trying to be set on a copy of a slice from a DataFrame.\n",
      "Try using .loc[row_indexer,col_indexer] = value instead\n",
      "\n",
      "See the caveats in the documentation: https://pandas.pydata.org/pandas-docs/stable/user_guide/indexing.html#returning-a-view-versus-a-copy\n",
      "  isetter(ilocs[0], value)\n",
      "/Users/dipanjanpaul/opt/anaconda3/lib/python3.8/site-packages/pandas/core/indexing.py:1736: SettingWithCopyWarning: \n",
      "A value is trying to be set on a copy of a slice from a DataFrame.\n",
      "Try using .loc[row_indexer,col_indexer] = value instead\n",
      "\n",
      "See the caveats in the documentation: https://pandas.pydata.org/pandas-docs/stable/user_guide/indexing.html#returning-a-view-versus-a-copy\n",
      "  isetter(loc, value[:, i].tolist())\n"
     ]
    },
    {
     "data": {
      "text/plain": [
       "Index(['property_href', 'sale_price', 'full_add', 'zip_5', 'zip_E', 'MLS',\n",
       "       'beds', 'baths', 'lot_size', 'prop_size', 'age', 'date_listed',\n",
       "       'sale_date', 'times_delisted', 'floor_upg_sts', 'stall_shower',\n",
       "       'kitchen_upg_sts', 'house_int_upg_sts', 'house_ext_upg_sts',\n",
       "       'townhouse', 'basement', 'stories'],\n",
       "      dtype='object')"
      ]
     },
     "execution_count": 39,
     "metadata": {},
     "output_type": "execute_result"
    }
   ],
   "source": [
    "new_df = df[['property-href', ' Sale Price ']]\n",
    "new_df.fillna('MI', inplace = True)\n",
    "\n",
    "\n",
    "new_df.loc[:,'full_add'] = c_add\n",
    "new_df.loc[:,'Zip_5'] = Zip_5\n",
    "new_df.loc[:,'Zip_E'] = Zip_E\n",
    "new_df.loc[:,'MLS'] = MLS\n",
    "\n",
    "new_df.loc[:,'Beds'] = beds\n",
    "new_df.loc[:,'Baths'] = baths\n",
    "\n",
    "new_df.loc[:,'lot_size'] = lot_size\n",
    "new_df.loc[:,'prop_size'] = prop_size\n",
    "\n",
    "new_df.loc[:,'Age'] = age\n",
    "new_df.loc[:,'Date_Listed'] = d_listed\n",
    "new_df.loc[:,'Sale_Date'] = sale_date\n",
    "\n",
    "new_df.loc[:,'Times_Delisted'] = times_delisted\n",
    "\n",
    "new_df.loc[:,'floor_upg_sts'] = floor_upg_sts\n",
    "\n",
    "new_df.loc[:,'stall_shower'] = stl_shr\n",
    "\n",
    "#new_df.loc[:,'gourmet_kitchen'] = grmt_kit\n",
    "#new_df.loc[:,'kitchen_island'] = kit_ilnd \n",
    "#new_df.loc[:,'kitchen_counter_top'] = k_ctr_top \n",
    "#new_df.loc[:,'wet_dry_bar'] = w_d_bar \n",
    "new_df.loc[:,'kitchen_upg_sts'] = kitchen_upg_sts\n",
    "\n",
    "#new_df.loc[:,'recess_light'] = rcs_ltng \n",
    "#new_df.loc[:,'sky_light'] = sky_lt \n",
    "#new_df.loc[:,'crown_moulding'] = crn_mldg \n",
    "##new_df.loc[:,'fireplace'] = fireplace \n",
    "new_df.loc[:,'house_int_upg_sts'] = house_int_upg_sts\n",
    "\n",
    "#new_df.loc[:,'sprinkler_sys'] = sprnklr_s \n",
    "#new_df.loc[:,'fencing'] = fencing \n",
    "##new_df.loc[:,'deck_patio'] = deck_patio \n",
    "new_df.loc[:,'house_ext_upg_sts'] = house_ext_upg_sts\n",
    "\n",
    "new_df.loc[:,'townhouse'] = twn_house \n",
    "\n",
    "new_df.loc[:,'basement'] = bsmt\n",
    "new_df.loc[:,'stories'] = stories\n",
    "\n",
    "new_df.columns = ['property_href', 'sale_price', 'full_add', 'zip_5', 'zip_E', 'MLS',\n",
    "       'beds', 'baths', 'lot_size', 'prop_size', 'age', 'date_listed',\n",
    "       'sale_date', 'times_delisted', 'floor_upg_sts', 'stall_shower',\n",
    "       'kitchen_upg_sts', 'house_int_upg_sts', 'house_ext_upg_sts',\n",
    "       'townhouse', 'basement', 'stories']\n",
    "\n",
    "#new_df.apply(lambda x: sum(x.isnull()))\n",
    "\n",
    "new_df.columns\n",
    "\n"
   ]
  },
  {
   "cell_type": "code",
   "execution_count": 41,
   "metadata": {},
   "outputs": [
    {
     "data": {
      "text/plain": [
       "(3472, 22)"
      ]
     },
     "execution_count": 41,
     "metadata": {},
     "output_type": "execute_result"
    }
   ],
   "source": [
    "new_df.shape"
   ]
  },
  {
   "cell_type": "code",
   "execution_count": 42,
   "metadata": {},
   "outputs": [
    {
     "data": {
      "text/plain": [
       "(3439, 22)"
      ]
     },
     "execution_count": 42,
     "metadata": {},
     "output_type": "execute_result"
    }
   ],
   "source": [
    "## Remove all new constructions from the dataset for better fit\n",
    "new_df = new_df[new_df.age > 4]\n",
    "new_df.shape"
   ]
  },
  {
   "cell_type": "code",
   "execution_count": 42,
   "metadata": {},
   "outputs": [],
   "source": [
    "new_df.to_csv(\"../data/interim/listings.csv\", header=True, index=False)"
   ]
  },
  {
   "cell_type": "code",
   "execution_count": 45,
   "metadata": {},
   "outputs": [],
   "source": [
    "from sqlalchemy import create_engine\n",
    "engine = create_engine('postgresql://localhost/TB')"
   ]
  },
  {
   "cell_type": "code",
   "execution_count": 46,
   "metadata": {},
   "outputs": [],
   "source": [
    "new_df.to_sql('listings', con=engine, index=False, if_exists='replace')"
   ]
  },
  {
   "cell_type": "code",
   "execution_count": 46,
   "metadata": {},
   "outputs": [
    {
     "data": {
      "application/vnd.jupyter.widget-view+json": {
       "model_id": "6b8050d43f9c49a0934df8932d957c0e",
       "version_major": 2,
       "version_minor": 0
      },
      "text/plain": [
       "HBox(children=(HTML(value='Summarize dataset'), FloatProgress(value=0.0, max=37.0), HTML(value='')))"
      ]
     },
     "metadata": {},
     "output_type": "display_data"
    },
    {
     "name": "stdout",
     "output_type": "stream",
     "text": [
      "\n"
     ]
    },
    {
     "data": {
      "application/vnd.jupyter.widget-view+json": {
       "model_id": "01c697d42e444262aba00d7c60ee76ba",
       "version_major": 2,
       "version_minor": 0
      },
      "text/plain": [
       "HBox(children=(HTML(value='Generate report structure'), FloatProgress(value=0.0, max=1.0), HTML(value='')))"
      ]
     },
     "metadata": {},
     "output_type": "display_data"
    },
    {
     "name": "stdout",
     "output_type": "stream",
     "text": [
      "\n"
     ]
    },
    {
     "data": {
      "application/vnd.jupyter.widget-view+json": {
       "model_id": "07d62aa46ed64d6d9810c055d688648f",
       "version_major": 2,
       "version_minor": 0
      },
      "text/plain": [
       "HBox(children=(HTML(value='Render HTML'), FloatProgress(value=0.0, max=1.0), HTML(value='')))"
      ]
     },
     "metadata": {},
     "output_type": "display_data"
    },
    {
     "name": "stdout",
     "output_type": "stream",
     "text": [
      "\n"
     ]
    },
    {
     "data": {
      "application/vnd.jupyter.widget-view+json": {
       "model_id": "e0e36cde5c804dca80364b4d6ca8ae9b",
       "version_major": 2,
       "version_minor": 0
      },
      "text/plain": [
       "HBox(children=(HTML(value='Export report to file'), FloatProgress(value=0.0, max=1.0), HTML(value='')))"
      ]
     },
     "metadata": {},
     "output_type": "display_data"
    },
    {
     "name": "stdout",
     "output_type": "stream",
     "text": [
      "\n"
     ]
    }
   ],
   "source": [
    "from pandas_profiling import ProfileReport\n",
    "r_df = new_df.dropna()\n",
    "prof = ProfileReport(r_df)\n",
    "prof.to_file(output_file='../reports/listing_analysis.html')"
   ]
  },
  {
   "cell_type": "code",
   "execution_count": 81,
   "metadata": {},
   "outputs": [
    {
     "data": {
      "text/plain": [
       "property_href           0\n",
       "sale_price            170\n",
       "full_add                0\n",
       "zip_5                   0\n",
       "zip_E                2066\n",
       "MLS                   626\n",
       "beds                 1577\n",
       "baths                1559\n",
       "lot_size              321\n",
       "prop_size             220\n",
       "age                     0\n",
       "date_listed           568\n",
       "sale_date             326\n",
       "times_delisted          0\n",
       "floor_upg_sts           0\n",
       "stall_shower            0\n",
       "kitchen_upg_sts         0\n",
       "house_int_upg_sts       0\n",
       "house_ext_upg_sts       0\n",
       "townhouse               0\n",
       "basement                0\n",
       "stories                 0\n",
       "dtype: int64"
      ]
     },
     "execution_count": 81,
     "metadata": {},
     "output_type": "execute_result"
    }
   ],
   "source": [
    "new_df.apply(lambda x: sum(x=='MI'))"
   ]
  },
  {
   "cell_type": "code",
   "execution_count": 82,
   "metadata": {},
   "outputs": [
    {
     "data": {
      "text/plain": [
       "(176, 22)"
      ]
     },
     "execution_count": 82,
     "metadata": {},
     "output_type": "execute_result"
    }
   ],
   "source": [
    "x = new_df[((new_df.lot_size != 'MI') & (new_df.prop_size != 'MI'))].copy()\n",
    "x[(x.prop_size.astype('float') > x.lot_size.astype('float'))].shape"
   ]
  },
  {
   "cell_type": "markdown",
   "metadata": {},
   "source": [
    "## Prep the data for feeding the cluster creation model. The cluster-wise regression model utilizes an iterative approach to solve the multiple population problem."
   ]
  },
  {
   "cell_type": "code",
   "execution_count": 83,
   "metadata": {},
   "outputs": [
    {
     "data": {
      "text/plain": [
       "property_href       0\n",
       "sale_price        170\n",
       "full_add            0\n",
       "zip_5               0\n",
       "beds             1577\n",
       "baths            1559\n",
       "lot_size          321\n",
       "prop_size         220\n",
       "age                 0\n",
       "dtype: int64"
      ]
     },
     "execution_count": 83,
     "metadata": {},
     "output_type": "execute_result"
    }
   ],
   "source": [
    "##r_cols = ['Redfin_Estimate', 'zip_E', 'MLS', 'date_listed', 'sale_date', 'times_delisted', 'full_add']\n",
    "r_cols = ['Redfin_Estimate', 'zip_E', 'MLS', 'date_listed', 'sale_date', 'times_delisted',\n",
    "          'date_listed', 'sale_date', 'times_delisted', 'floor_upg_sts', 'stall_shower',\n",
    "          'kitchen_upg_sts', 'house_int_upg_sts', 'house_ext_upg_sts',\n",
    "          'townhouse', 'basement', 'stories']\n",
    "k_cols = [x for x in new_df.columns if x not in r_cols]\n",
    "new_df[k_cols].apply(lambda x: sum(x=='MI'))"
   ]
  },
  {
   "cell_type": "code",
   "execution_count": 84,
   "metadata": {},
   "outputs": [
    {
     "data": {
      "text/plain": [
       "(1643, 9)"
      ]
     },
     "execution_count": 84,
     "metadata": {},
     "output_type": "execute_result"
    }
   ],
   "source": [
    "r_df = new_df[k_cols].copy()\n",
    "r_df['r_mi_cnt'] = r_df.apply(lambda x: sum(x=='MI'), axis=1)\n",
    "\n",
    "r_df = r_df[r_df.r_mi_cnt == 0]\n",
    "r_df.drop('r_mi_cnt', axis=1, inplace=True)\n",
    "r_df.shape"
   ]
  },
  {
   "cell_type": "code",
   "execution_count": 85,
   "metadata": {},
   "outputs": [],
   "source": [
    "s_p = [re.sub('[^0-9]', '', str(x)) for x in r_df.sale_price]\n",
    "r_df.sale_price = s_p"
   ]
  },
  {
   "cell_type": "code",
   "execution_count": 86,
   "metadata": {},
   "outputs": [
    {
     "data": {
      "text/plain": [
       "property_href      object\n",
       "sale_price        float64\n",
       "full_add           object\n",
       "zip_5            category\n",
       "beds              float64\n",
       "baths             float64\n",
       "lot_size          float64\n",
       "prop_size         float64\n",
       "age               float64\n",
       "dtype: object"
      ]
     },
     "execution_count": 86,
     "metadata": {},
     "output_type": "execute_result"
    }
   ],
   "source": [
    "r_df.zip_5 = r_df.zip_5.astype('category')\n",
    "r_df.prop_size = r_df.prop_size.astype('float')\n",
    "r_df.beds = r_df.beds.astype('float')\n",
    "r_df.baths = r_df.baths.astype('float')\n",
    "r_df.lot_size = r_df.lot_size.astype('float')\n",
    "r_df.prop_size = r_df.prop_size.astype('float')\n",
    "r_df.age = r_df.age.astype('float')\n",
    "r_df.sale_price = r_df.sale_price.astype('float')\n",
    "\n",
    "r_df.dtypes"
   ]
  },
  {
   "cell_type": "code",
   "execution_count": 87,
   "metadata": {},
   "outputs": [
    {
     "data": {
      "text/plain": [
       "(1505, 9)"
      ]
     },
     "execution_count": 87,
     "metadata": {},
     "output_type": "execute_result"
    }
   ],
   "source": [
    "r_df[(r_df.lot_size <= 60000)].shape"
   ]
  },
  {
   "cell_type": "code",
   "execution_count": 88,
   "metadata": {},
   "outputs": [
    {
     "data": {
      "text/plain": [
       "(1057, 9)"
      ]
     },
     "execution_count": 88,
     "metadata": {},
     "output_type": "execute_result"
    }
   ],
   "source": [
    "##r_df  = r_df[(r_df.lot_size > r_df.prop_size) & (r_df.lot_size > 3000)]\n",
    "r_df = r_df[((r_df.sale_price >= 225000) & (r_df.sale_price <= 800000))]\n",
    "r_df = r_df[r_df.prop_size <= 4000]\n",
    "r_df = r_df[(r_df.beds <= 5) & (r_df.beds > 0)]\n",
    "#r_df = r_df[(r_df.baths <= 4) & (r_df.baths > 1)]\n",
    "r_df = r_df[(r_df.lot_size <= 60000)]\n",
    "r_df = r_df[(r_df.age <= 90)]\n",
    "\n",
    "df.reset_index(inplace=True, drop=True)\n",
    "r_df.shape"
   ]
  },
  {
   "cell_type": "code",
   "execution_count": 89,
   "metadata": {},
   "outputs": [
    {
     "data": {
      "text/plain": [
       "property_href    category\n",
       "sale_price        float64\n",
       "full_add         category\n",
       "zip_5            category\n",
       "beds              float64\n",
       "baths             float64\n",
       "lot_size          float64\n",
       "prop_size         float64\n",
       "age               float64\n",
       "dtype: object"
      ]
     },
     "execution_count": 89,
     "metadata": {},
     "output_type": "execute_result"
    }
   ],
   "source": [
    "for itm in r_df.dtypes[r_df.dtypes == 'object'].index:\n",
    "    cat_dtype = pd.api.types.CategoricalDtype(categories=np.unique(r_df[itm]))\n",
    "    r_df[itm] = r_df[itm].astype(cat_dtype)\n",
    "\n",
    "r_df.dtypes"
   ]
  },
  {
   "cell_type": "code",
   "execution_count": 90,
   "metadata": {},
   "outputs": [
    {
     "data": {
      "application/vnd.jupyter.widget-view+json": {
       "model_id": "672f25bcada8407fb17eed6bc9a2931b",
       "version_major": 2,
       "version_minor": 0
      },
      "text/plain": [
       "HBox(children=(FloatProgress(value=0.0, description='Summarize dataset', max=24.0, style=ProgressStyle(descrip…"
      ]
     },
     "metadata": {},
     "output_type": "display_data"
    },
    {
     "name": "stdout",
     "output_type": "stream",
     "text": [
      "\n"
     ]
    },
    {
     "data": {
      "application/vnd.jupyter.widget-view+json": {
       "model_id": "cae9eba12df748039ffcc662317c2618",
       "version_major": 2,
       "version_minor": 0
      },
      "text/plain": [
       "HBox(children=(FloatProgress(value=0.0, description='Generate report structure', max=1.0, style=ProgressStyle(…"
      ]
     },
     "metadata": {},
     "output_type": "display_data"
    },
    {
     "name": "stdout",
     "output_type": "stream",
     "text": [
      "\n"
     ]
    },
    {
     "data": {
      "application/vnd.jupyter.widget-view+json": {
       "model_id": "2f3e13bf11514fdfb43b3edeae42c574",
       "version_major": 2,
       "version_minor": 0
      },
      "text/plain": [
       "HBox(children=(FloatProgress(value=0.0, description='Render HTML', max=1.0, style=ProgressStyle(description_wi…"
      ]
     },
     "metadata": {},
     "output_type": "display_data"
    },
    {
     "name": "stdout",
     "output_type": "stream",
     "text": [
      "\n"
     ]
    },
    {
     "data": {
      "application/vnd.jupyter.widget-view+json": {
       "model_id": "e7cca0055a094c809313af4c96575fe7",
       "version_major": 2,
       "version_minor": 0
      },
      "text/plain": [
       "HBox(children=(FloatProgress(value=0.0, description='Export report to file', max=1.0, style=ProgressStyle(desc…"
      ]
     },
     "metadata": {},
     "output_type": "display_data"
    },
    {
     "name": "stdout",
     "output_type": "stream",
     "text": [
      "\n"
     ]
    }
   ],
   "source": [
    "from pandas_profiling import ProfileReport\n",
    "prof = ProfileReport(r_df)\n",
    "prof.to_file(output_file='../reports/model_input_analysis.html')"
   ]
  },
  {
   "cell_type": "code",
   "execution_count": 91,
   "metadata": {},
   "outputs": [],
   "source": [
    "##r_df.stories[r_df.stories == '1.5'] = '2'"
   ]
  },
  {
   "cell_type": "code",
   "execution_count": 92,
   "metadata": {},
   "outputs": [
    {
     "data": {
      "text/plain": [
       "08873    235\n",
       "08807    176\n",
       "08844    153\n",
       "08876     65\n",
       "08540     49\n",
       "07920     48\n",
       "08835     40\n",
       "08502     33\n",
       "08805     31\n",
       "07059     27\n",
       "07924     23\n",
       "08558     22\n",
       "08812     20\n",
       "07069     18\n",
       "07921     18\n",
       "07060     17\n",
       "07063     17\n",
       "08836     13\n",
       "08880     11\n",
       "08853     11\n",
       "08869     10\n",
       "08823      8\n",
       "07062      7\n",
       "08553      3\n",
       "07934      1\n",
       "07977      1\n",
       "08821      0\n",
       "07922      0\n",
       "08528      0\n",
       "07931      0\n",
       "Name: zip_5, dtype: int64"
      ]
     },
     "execution_count": 92,
     "metadata": {},
     "output_type": "execute_result"
    }
   ],
   "source": [
    "x = r_df.zip_5.value_counts()\n",
    "x"
   ]
  },
  {
   "cell_type": "code",
   "execution_count": 93,
   "metadata": {},
   "outputs": [
    {
     "data": {
      "text/plain": [
       "(902, 9)"
      ]
     },
     "execution_count": 93,
     "metadata": {},
     "output_type": "execute_result"
    }
   ],
   "source": [
    "model_df = r_df[r_df.zip_5.isin(x[x>20].index)].copy()\n",
    "model_df.shape"
   ]
  },
  {
   "cell_type": "code",
   "execution_count": 94,
   "metadata": {},
   "outputs": [
    {
     "data": {
      "text/plain": [
       "902"
      ]
     },
     "execution_count": 94,
     "metadata": {},
     "output_type": "execute_result"
    }
   ],
   "source": [
    "len(np.unique(model_df.property_href))"
   ]
  },
  {
   "cell_type": "code",
   "execution_count": 95,
   "metadata": {},
   "outputs": [],
   "source": [
    "model_df.to_csv(\"../data/interim/clustering_model_input.csv\", header=True, index=False)"
   ]
  }
 ],
 "metadata": {
  "kernelspec": {
   "display_name": "Python 3 (ipykernel)",
   "language": "python",
   "name": "python3"
  },
  "language_info": {
   "codemirror_mode": {
    "name": "ipython",
    "version": 3
   },
   "file_extension": ".py",
   "mimetype": "text/x-python",
   "name": "python",
   "nbconvert_exporter": "python",
   "pygments_lexer": "ipython3",
   "version": "3.8.18"
  }
 },
 "nbformat": 4,
 "nbformat_minor": 4
}
