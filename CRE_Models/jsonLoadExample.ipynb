{
 "cells": [
  {
   "cell_type": "code",
   "execution_count": 15,
   "metadata": {},
   "outputs": [],
   "source": [
    "import re\n",
    "import json\n",
    "from pprint import pprint"
   ]
  },
  {
   "cell_type": "code",
   "execution_count": 1,
   "metadata": {},
   "outputs": [],
   "source": [
    "def read_mongoextjson_file(filename):\n",
    "    with open(filename, \"r\") as f:\n",
    "        # read the entire input; in a real application,\n",
    "        # you would want to read a chunk at a time\n",
    "        bsondata = '['+f.read()+']'\n",
    "\n",
    "        # convert the TenGen JSON to Strict JSON\n",
    "        # here, I just convert the ObjectId and Date structures,\n",
    "        # but it's easy to extend to cover all structures listed at\n",
    "        # http://www.mongodb.org/display/DOCS/Mongo+Extended+JSON\n",
    "        jsondata = re.sub(r'ObjectId\\s*\\(\\\"(\\S+)\\\"\\)',\n",
    "                          r'{\"$oid\": \"\\1\"}',\n",
    "                          bsondata)\n",
    "#         print(jsondata)\n",
    "        jsondata = re.sub(r'ISODate\\s*\\(\\s*(\\S+)\\s*\\)',\n",
    "                          r'{\"$date\": \\1}',\n",
    "                          jsondata)\n",
    "        jsondata = re.sub(r'NumberInt\\s*\\(\\s*(\\S+)\\s*\\)',\n",
    "                          r'{\"$numberInt\": \"\\1\"}',\n",
    "                          jsondata)\n",
    "\n",
    "        # now we can parse this as JSON, and use MongoDB's object_hook\n",
    "        # function to get rich Python data structures inside a dictionary\n",
    "#         data = json.loads(jsondata, object_hook=json_util.object_hook)\n",
    "        data=json.loads(jsondata)\n",
    "\n",
    "        return data"
   ]
  },
  {
   "cell_type": "code",
   "execution_count": 2,
   "metadata": {},
   "outputs": [
    {
     "ename": "FileNotFoundError",
     "evalue": "[Errno 2] No such file or directory: 'project1.json'",
     "output_type": "error",
     "traceback": [
      "\u001b[0;31m---------------------------------------------------------------------------\u001b[0m",
      "\u001b[0;31mFileNotFoundError\u001b[0m                         Traceback (most recent call last)",
      "\u001b[0;32m<ipython-input-2-c706162df6ae>\u001b[0m in \u001b[0;36m<module>\u001b[0;34m\u001b[0m\n\u001b[0;32m----> 1\u001b[0;31m \u001b[0mjson_data\u001b[0m \u001b[0;34m=\u001b[0m \u001b[0mread_mongoextjson_file\u001b[0m\u001b[0;34m(\u001b[0m\u001b[0;34m'project1.json'\u001b[0m\u001b[0;34m)\u001b[0m\u001b[0;34m\u001b[0m\u001b[0;34m\u001b[0m\u001b[0m\n\u001b[0m\u001b[1;32m      2\u001b[0m \u001b[0mpprint\u001b[0m\u001b[0;34m(\u001b[0m\u001b[0mjson_data\u001b[0m\u001b[0;34m)\u001b[0m\u001b[0;34m\u001b[0m\u001b[0;34m\u001b[0m\u001b[0m\n",
      "\u001b[0;32m<ipython-input-1-553976af21fa>\u001b[0m in \u001b[0;36mread_mongoextjson_file\u001b[0;34m(filename)\u001b[0m\n\u001b[1;32m      1\u001b[0m \u001b[0;32mdef\u001b[0m \u001b[0mread_mongoextjson_file\u001b[0m\u001b[0;34m(\u001b[0m\u001b[0mfilename\u001b[0m\u001b[0;34m)\u001b[0m\u001b[0;34m:\u001b[0m\u001b[0;34m\u001b[0m\u001b[0;34m\u001b[0m\u001b[0m\n\u001b[0;32m----> 2\u001b[0;31m     \u001b[0;32mwith\u001b[0m \u001b[0mopen\u001b[0m\u001b[0;34m(\u001b[0m\u001b[0mfilename\u001b[0m\u001b[0;34m,\u001b[0m \u001b[0;34m\"r\"\u001b[0m\u001b[0;34m)\u001b[0m \u001b[0;32mas\u001b[0m \u001b[0mf\u001b[0m\u001b[0;34m:\u001b[0m\u001b[0;34m\u001b[0m\u001b[0;34m\u001b[0m\u001b[0m\n\u001b[0m\u001b[1;32m      3\u001b[0m         \u001b[0;31m# read the entire input; in a real application,\u001b[0m\u001b[0;34m\u001b[0m\u001b[0;34m\u001b[0m\u001b[0;34m\u001b[0m\u001b[0m\n\u001b[1;32m      4\u001b[0m         \u001b[0;31m# you would want to read a chunk at a time\u001b[0m\u001b[0;34m\u001b[0m\u001b[0;34m\u001b[0m\u001b[0;34m\u001b[0m\u001b[0m\n\u001b[1;32m      5\u001b[0m         \u001b[0mbsondata\u001b[0m \u001b[0;34m=\u001b[0m \u001b[0;34m'['\u001b[0m\u001b[0;34m+\u001b[0m\u001b[0mf\u001b[0m\u001b[0;34m.\u001b[0m\u001b[0mread\u001b[0m\u001b[0;34m(\u001b[0m\u001b[0;34m)\u001b[0m\u001b[0;34m+\u001b[0m\u001b[0;34m']'\u001b[0m\u001b[0;34m\u001b[0m\u001b[0;34m\u001b[0m\u001b[0m\n",
      "\u001b[0;31mFileNotFoundError\u001b[0m: [Errno 2] No such file or directory: 'project1.json'"
     ]
    }
   ],
   "source": [
    "json_data = read_mongoextjson_file('project1.json')\n",
    "pprint(json_data)"
   ]
  },
  {
   "cell_type": "code",
   "execution_count": null,
   "metadata": {},
   "outputs": [],
   "source": []
  }
 ],
 "metadata": {
  "kernelspec": {
   "display_name": "Python 3",
   "language": "python",
   "name": "python3"
  },
  "language_info": {
   "codemirror_mode": {
    "name": "ipython",
    "version": 3
   },
   "file_extension": ".py",
   "mimetype": "text/x-python",
   "name": "python",
   "nbconvert_exporter": "python",
   "pygments_lexer": "ipython3",
   "version": "3.8.5"
  }
 },
 "nbformat": 4,
 "nbformat_minor": 4
}
