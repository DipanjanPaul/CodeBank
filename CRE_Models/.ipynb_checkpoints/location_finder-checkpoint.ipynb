{
 "cells": [
  {
   "cell_type": "code",
   "execution_count": 1,
   "metadata": {},
   "outputs": [],
   "source": [
    "import pandas as pd\n",
    "import numpy as np\n",
    "import plotly.express as px\n",
    "import re\n",
    "from itertools import groupby\n",
    "from datetime import datetime\n",
    "import math\n",
    "\n",
    "import seaborn as sns\n",
    "import os\n",
    "\n",
    "import folium\n",
    "\n",
    "import matplotlib.pyplot as plt\n",
    "import matplotlib.cm as cm\n",
    "import matplotlib.colors as colors\n",
    "\n",
    "pd.options.display.max_columns = 100\n",
    "pd.options.display.max_rows = 100\n",
    "pd.options.display.max_colwidth = 300"
   ]
  },
  {
   "cell_type": "code",
   "execution_count": 2,
   "metadata": {},
   "outputs": [],
   "source": [
    "import geopandas\n",
    "import geopy"
   ]
  },
  {
   "cell_type": "code",
   "execution_count": 3,
   "metadata": {},
   "outputs": [
    {
     "data": {
      "text/html": [
       "<div>\n",
       "<style scoped>\n",
       "    .dataframe tbody tr th:only-of-type {\n",
       "        vertical-align: middle;\n",
       "    }\n",
       "\n",
       "    .dataframe tbody tr th {\n",
       "        vertical-align: top;\n",
       "    }\n",
       "\n",
       "    .dataframe thead th {\n",
       "        text-align: right;\n",
       "    }\n",
       "</style>\n",
       "<table border=\"1\" class=\"dataframe\">\n",
       "  <thead>\n",
       "    <tr style=\"text-align: right;\">\n",
       "      <th></th>\n",
       "      <th>property_href</th>\n",
       "      <th>sale_price</th>\n",
       "      <th>full_add</th>\n",
       "      <th>zip_5</th>\n",
       "      <th>beds</th>\n",
       "      <th>baths</th>\n",
       "      <th>lot_size</th>\n",
       "      <th>prop_size</th>\n",
       "      <th>age</th>\n",
       "    </tr>\n",
       "  </thead>\n",
       "  <tbody>\n",
       "    <tr>\n",
       "      <th>0</th>\n",
       "      <td>https://www.redfin.com/NJ/Somerset/48-S-Dover-Ave-08873/home/37840770</td>\n",
       "      <td>225000.0</td>\n",
       "      <td>48 Dover Ave Franklin NJ 08873</td>\n",
       "      <td>8873</td>\n",
       "      <td>3.0</td>\n",
       "      <td>2.0</td>\n",
       "      <td>16000.0</td>\n",
       "      <td>2417.0</td>\n",
       "      <td>40.0</td>\n",
       "    </tr>\n",
       "    <tr>\n",
       "      <th>1</th>\n",
       "      <td>https://www.redfin.com/NJ/Somerset/14-Almond-Dr-08873/home/37859940</td>\n",
       "      <td>230000.0</td>\n",
       "      <td>14 Almond Dr Franklin NJ 08873</td>\n",
       "      <td>8873</td>\n",
       "      <td>2.0</td>\n",
       "      <td>1.5</td>\n",
       "      <td>1080.0</td>\n",
       "      <td>1104.0</td>\n",
       "      <td>36.0</td>\n",
       "    </tr>\n",
       "  </tbody>\n",
       "</table>\n",
       "</div>"
      ],
      "text/plain": [
       "                                                           property_href  \\\n",
       "0  https://www.redfin.com/NJ/Somerset/48-S-Dover-Ave-08873/home/37840770   \n",
       "1    https://www.redfin.com/NJ/Somerset/14-Almond-Dr-08873/home/37859940   \n",
       "\n",
       "   sale_price                        full_add  zip_5  beds  baths  lot_size  \\\n",
       "0    225000.0  48 Dover Ave Franklin NJ 08873   8873   3.0    2.0   16000.0   \n",
       "1    230000.0  14 Almond Dr Franklin NJ 08873   8873   2.0    1.5    1080.0   \n",
       "\n",
       "   prop_size   age  \n",
       "0     2417.0  40.0  \n",
       "1     1104.0  36.0  "
      ]
     },
     "execution_count": 3,
     "metadata": {},
     "output_type": "execute_result"
    }
   ],
   "source": [
    "df=pd.read_csv('../data/interim/clustering_model_input.csv', header=0)\n",
    "df.head(2)"
   ]
  },
  {
   "cell_type": "code",
   "execution_count": 4,
   "metadata": {},
   "outputs": [],
   "source": [
    "from geopy.geocoders import Nominatim\n",
    "geolocator = Nominatim(user_agent=\"tailorbird\")\n",
    "##location = geolocator.geocode(\"45 Brunswick Ave Metuchen NJ 08840\")\n",
    "##print(location.address)"
   ]
  },
  {
   "cell_type": "code",
   "execution_count": 5,
   "metadata": {},
   "outputs": [],
   "source": [
    "from geopy.extra.rate_limiter import RateLimiter\n",
    "\n",
    "geocode = RateLimiter(geolocator.geocode)\n",
    "\n",
    "df['location'] = df['full_add'].apply(geocode)\n",
    "\n",
    "df['point'] = df['location'].apply(lambda loc: tuple(loc.point) if loc else None)\n",
    "\n",
    "##df[['latitude', 'longitude', 'altitude']] = pd.DataFrame(df['point'].tolist(), index=df.index)\n"
   ]
  },
  {
   "cell_type": "code",
   "execution_count": 6,
   "metadata": {},
   "outputs": [
    {
     "data": {
      "text/html": [
       "<div>\n",
       "<style scoped>\n",
       "    .dataframe tbody tr th:only-of-type {\n",
       "        vertical-align: middle;\n",
       "    }\n",
       "\n",
       "    .dataframe tbody tr th {\n",
       "        vertical-align: top;\n",
       "    }\n",
       "\n",
       "    .dataframe thead th {\n",
       "        text-align: right;\n",
       "    }\n",
       "</style>\n",
       "<table border=\"1\" class=\"dataframe\">\n",
       "  <thead>\n",
       "    <tr style=\"text-align: right;\">\n",
       "      <th></th>\n",
       "      <th>property_href</th>\n",
       "      <th>sale_price</th>\n",
       "      <th>full_add</th>\n",
       "      <th>zip_5</th>\n",
       "      <th>beds</th>\n",
       "      <th>baths</th>\n",
       "      <th>lot_size</th>\n",
       "      <th>prop_size</th>\n",
       "      <th>age</th>\n",
       "      <th>location</th>\n",
       "      <th>point</th>\n",
       "    </tr>\n",
       "  </thead>\n",
       "  <tbody>\n",
       "    <tr>\n",
       "      <th>0</th>\n",
       "      <td>https://www.redfin.com/NJ/Somerset/48-S-Dover-Ave-08873/home/37840770</td>\n",
       "      <td>225000.0</td>\n",
       "      <td>48 Dover Ave Franklin NJ 08873</td>\n",
       "      <td>8873</td>\n",
       "      <td>3.0</td>\n",
       "      <td>2.0</td>\n",
       "      <td>16000.0</td>\n",
       "      <td>2417.0</td>\n",
       "      <td>40.0</td>\n",
       "      <td>None</td>\n",
       "      <td>None</td>\n",
       "    </tr>\n",
       "    <tr>\n",
       "      <th>1</th>\n",
       "      <td>https://www.redfin.com/NJ/Somerset/14-Almond-Dr-08873/home/37859940</td>\n",
       "      <td>230000.0</td>\n",
       "      <td>14 Almond Dr Franklin NJ 08873</td>\n",
       "      <td>8873</td>\n",
       "      <td>2.0</td>\n",
       "      <td>1.5</td>\n",
       "      <td>1080.0</td>\n",
       "      <td>1104.0</td>\n",
       "      <td>36.0</td>\n",
       "      <td>(14, Almond Drive, Ukrainian Village, Franklin Township, Somerset County, New Jersey, 08873, United States of America, (40.50833363472449, -74.50636016742878))</td>\n",
       "      <td>(40.50833363472449, -74.50636016742878, 0.0)</td>\n",
       "    </tr>\n",
       "  </tbody>\n",
       "</table>\n",
       "</div>"
      ],
      "text/plain": [
       "                                                           property_href  \\\n",
       "0  https://www.redfin.com/NJ/Somerset/48-S-Dover-Ave-08873/home/37840770   \n",
       "1    https://www.redfin.com/NJ/Somerset/14-Almond-Dr-08873/home/37859940   \n",
       "\n",
       "   sale_price                        full_add  zip_5  beds  baths  lot_size  \\\n",
       "0    225000.0  48 Dover Ave Franklin NJ 08873   8873   3.0    2.0   16000.0   \n",
       "1    230000.0  14 Almond Dr Franklin NJ 08873   8873   2.0    1.5    1080.0   \n",
       "\n",
       "   prop_size   age  \\\n",
       "0     2417.0  40.0   \n",
       "1     1104.0  36.0   \n",
       "\n",
       "                                                                                                                                                          location  \\\n",
       "0                                                                                                                                                             None   \n",
       "1  (14, Almond Drive, Ukrainian Village, Franklin Township, Somerset County, New Jersey, 08873, United States of America, (40.50833363472449, -74.50636016742878))   \n",
       "\n",
       "                                          point  \n",
       "0                                          None  \n",
       "1  (40.50833363472449, -74.50636016742878, 0.0)  "
      ]
     },
     "execution_count": 6,
     "metadata": {},
     "output_type": "execute_result"
    }
   ],
   "source": [
    "df.head(2)"
   ]
  },
  {
   "cell_type": "code",
   "execution_count": 7,
   "metadata": {},
   "outputs": [
    {
     "data": {
      "text/plain": [
       "property_href      0\n",
       "sale_price         0\n",
       "full_add           0\n",
       "zip_5              0\n",
       "beds               0\n",
       "baths              0\n",
       "lot_size           0\n",
       "prop_size          0\n",
       "age                0\n",
       "location         176\n",
       "point            176\n",
       "dtype: int64"
      ]
     },
     "execution_count": 7,
     "metadata": {},
     "output_type": "execute_result"
    }
   ],
   "source": [
    "df.isnull().sum()"
   ]
  },
  {
   "cell_type": "code",
   "execution_count": 8,
   "metadata": {},
   "outputs": [],
   "source": [
    "df.dropna(inplace=True)"
   ]
  },
  {
   "cell_type": "code",
   "execution_count": 9,
   "metadata": {},
   "outputs": [],
   "source": [
    "df[['latitude', 'longitude', 'altitude']] = pd.DataFrame(df['point'].tolist(), index=df.index)"
   ]
  },
  {
   "cell_type": "code",
   "execution_count": 10,
   "metadata": {},
   "outputs": [
    {
     "data": {
      "text/html": [
       "<div>\n",
       "<style scoped>\n",
       "    .dataframe tbody tr th:only-of-type {\n",
       "        vertical-align: middle;\n",
       "    }\n",
       "\n",
       "    .dataframe tbody tr th {\n",
       "        vertical-align: top;\n",
       "    }\n",
       "\n",
       "    .dataframe thead th {\n",
       "        text-align: right;\n",
       "    }\n",
       "</style>\n",
       "<table border=\"1\" class=\"dataframe\">\n",
       "  <thead>\n",
       "    <tr style=\"text-align: right;\">\n",
       "      <th></th>\n",
       "      <th>property_href</th>\n",
       "      <th>sale_price</th>\n",
       "      <th>full_add</th>\n",
       "      <th>zip_5</th>\n",
       "      <th>beds</th>\n",
       "      <th>baths</th>\n",
       "      <th>lot_size</th>\n",
       "      <th>prop_size</th>\n",
       "      <th>age</th>\n",
       "      <th>location</th>\n",
       "      <th>point</th>\n",
       "      <th>latitude</th>\n",
       "      <th>longitude</th>\n",
       "      <th>altitude</th>\n",
       "    </tr>\n",
       "  </thead>\n",
       "  <tbody>\n",
       "    <tr>\n",
       "      <th>1</th>\n",
       "      <td>https://www.redfin.com/NJ/Somerset/14-Almond-Dr-08873/home/37859940</td>\n",
       "      <td>230000.0</td>\n",
       "      <td>14 Almond Dr Franklin NJ 08873</td>\n",
       "      <td>8873</td>\n",
       "      <td>2.0</td>\n",
       "      <td>1.5</td>\n",
       "      <td>1080.0</td>\n",
       "      <td>1104.0</td>\n",
       "      <td>36.0</td>\n",
       "      <td>(14, Almond Drive, Ukrainian Village, Franklin Township, Somerset County, New Jersey, 08873, United States of America, (40.50833363472449, -74.50636016742878))</td>\n",
       "      <td>(40.50833363472449, -74.50636016742878, 0.0)</td>\n",
       "      <td>40.508334</td>\n",
       "      <td>-74.506360</td>\n",
       "      <td>0.0</td>\n",
       "    </tr>\n",
       "    <tr>\n",
       "      <th>2</th>\n",
       "      <td>https://www.redfin.com/NJ/Somerset/160-Jefferson-St-08873/home/37845159</td>\n",
       "      <td>230000.0</td>\n",
       "      <td>160 Jefferson St Franklin NJ 08873</td>\n",
       "      <td>8873</td>\n",
       "      <td>2.0</td>\n",
       "      <td>1.0</td>\n",
       "      <td>5001.0</td>\n",
       "      <td>1365.0</td>\n",
       "      <td>63.0</td>\n",
       "      <td>(160, Jefferson Street, Franklin Township, Somerset County, New Jersey, 08873, United States of America, (40.49460388461539, -74.4664406923077))</td>\n",
       "      <td>(40.49460388461539, -74.4664406923077, 0.0)</td>\n",
       "      <td>40.494604</td>\n",
       "      <td>-74.466441</td>\n",
       "      <td>0.0</td>\n",
       "    </tr>\n",
       "  </tbody>\n",
       "</table>\n",
       "</div>"
      ],
      "text/plain": [
       "                                                             property_href  \\\n",
       "1      https://www.redfin.com/NJ/Somerset/14-Almond-Dr-08873/home/37859940   \n",
       "2  https://www.redfin.com/NJ/Somerset/160-Jefferson-St-08873/home/37845159   \n",
       "\n",
       "   sale_price                            full_add  zip_5  beds  baths  \\\n",
       "1    230000.0      14 Almond Dr Franklin NJ 08873   8873   2.0    1.5   \n",
       "2    230000.0  160 Jefferson St Franklin NJ 08873   8873   2.0    1.0   \n",
       "\n",
       "   lot_size  prop_size   age  \\\n",
       "1    1080.0     1104.0  36.0   \n",
       "2    5001.0     1365.0  63.0   \n",
       "\n",
       "                                                                                                                                                          location  \\\n",
       "1  (14, Almond Drive, Ukrainian Village, Franklin Township, Somerset County, New Jersey, 08873, United States of America, (40.50833363472449, -74.50636016742878))   \n",
       "2                 (160, Jefferson Street, Franklin Township, Somerset County, New Jersey, 08873, United States of America, (40.49460388461539, -74.4664406923077))   \n",
       "\n",
       "                                          point   latitude  longitude  \\\n",
       "1  (40.50833363472449, -74.50636016742878, 0.0)  40.508334 -74.506360   \n",
       "2   (40.49460388461539, -74.4664406923077, 0.0)  40.494604 -74.466441   \n",
       "\n",
       "   altitude  \n",
       "1       0.0  \n",
       "2       0.0  "
      ]
     },
     "execution_count": 10,
     "metadata": {},
     "output_type": "execute_result"
    }
   ],
   "source": [
    "df.head(2)"
   ]
  },
  {
   "cell_type": "code",
   "execution_count": 13,
   "metadata": {},
   "outputs": [],
   "source": [
    "df.to_csv(\"../data/interim/clustering_model_input_with_loc.csv\", header=True, index=False)"
   ]
  }
 ],
 "metadata": {
  "kernelspec": {
   "display_name": "Python 3",
   "language": "python",
   "name": "python3"
  },
  "language_info": {
   "codemirror_mode": {
    "name": "ipython",
    "version": 3
   },
   "file_extension": ".py",
   "mimetype": "text/x-python",
   "name": "python",
   "nbconvert_exporter": "python",
   "pygments_lexer": "ipython3",
   "version": "3.8.3"
  }
 },
 "nbformat": 4,
 "nbformat_minor": 4
}
