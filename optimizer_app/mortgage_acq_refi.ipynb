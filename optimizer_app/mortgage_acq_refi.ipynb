{
 "cells": [
  {
   "cell_type": "code",
   "execution_count": 6,
   "metadata": {},
   "outputs": [],
   "source": [
    "import pandas as pd\n",
    "from pydantic import BaseModel"
   ]
  },
  {
   "cell_type": "code",
   "execution_count": 8,
   "metadata": {},
   "outputs": [],
   "source": [
    "class MBaseIn(BaseModel):\n",
    "    C_Debt_Balance: float\n",
    "    C_Interest_Rate: float\n",
    "    C_Loan_Period: float\n",
    "    Loan_Base_Yr: int\n",
    "    C_IO_Until_Yr: int\n",
    "    C_Loan_Duration: int\n",
    "    C_Yield_on_Treasury: float\n",
    "    C_YM_Until: int "
   ]
  },
  {
   "cell_type": "code",
   "execution_count": 20,
   "metadata": {},
   "outputs": [],
   "source": [
    "# Inputs\n",
    "#C E18 - Loan Principal Amount\n",
    "#C E19 - Annual Interest Rate\n",
    "#C E21 - Loan Period in Years\n",
    "#Loan_Base_Yr = 1 #Base Year of the Loan\n",
    "#C C33 - I/O until year\n",
    "#C C37 - Loan Term\n",
    "#C E37 - Yield on Treasury\n",
    "#C C38 - YM Until\n",
    "\n",
    "inp = {\"C_Debt_Balance\": 26000000,\n",
    "       \"C_Interest_Rate\": 4.50/100,\n",
    "       \"C_Loan_Period\": 30,\n",
    "       \"Loan_Base_Yr\": 1,\n",
    "       \"C_IO_Until_Yr\": 4,\n",
    "       \"C_Loan_Duration\": 10,\n",
    "       \"C_Yield_on_Treasury\": 1.5/100,\n",
    "       \"C_YM_Until\": 0}\n",
    "\n",
    "m_data = MBaseIn.parse_obj(inp)"
   ]
  },
  {
   "cell_type": "code",
   "execution_count": 21,
   "metadata": {},
   "outputs": [],
   "source": [
    "m_payment = m_data.C_Interest_Rate/12, m_data.C_Loan_Period*12, -m_data.C_Debt_Balance"
   ]
  },
  {
   "cell_type": "code",
   "execution_count": 22,
   "metadata": {},
   "outputs": [
    {
     "data": {
      "text/plain": [
       "34238.18055473031"
      ]
     },
     "execution_count": 22,
     "metadata": {},
     "output_type": "execute_result"
    }
   ],
   "source": [
    "(m_data.C_Interest_Rate/12) * (-m_data.C_Debt_Balance)/(1 - (1+m_data.C_Interest_Rate/12)**(360))"
   ]
  },
  {
   "cell_type": "code",
   "execution_count": null,
   "metadata": {},
   "outputs": [],
   "source": [
    "IF(ISTEXT(J4),\"\",E4)"
   ]
  },
  {
   "cell_type": "code",
   "execution_count": null,
   "metadata": {},
   "outputs": [],
   "source": [
    "b_balance = []\n",
    "\n",
    "b_balance.append(m_data.C_Debt_Balance)\n",
    "\n"
   ]
  }
 ],
 "metadata": {
  "kernelspec": {
   "display_name": "Python 3",
   "language": "python",
   "name": "python3"
  },
  "language_info": {
   "codemirror_mode": {
    "name": "ipython",
    "version": 3
   },
   "file_extension": ".py",
   "mimetype": "text/x-python",
   "name": "python",
   "nbconvert_exporter": "python",
   "pygments_lexer": "ipython3",
   "version": "3.8.5"
  }
 },
 "nbformat": 4,
 "nbformat_minor": 4
}
